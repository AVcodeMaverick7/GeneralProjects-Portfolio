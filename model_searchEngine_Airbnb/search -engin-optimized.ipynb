{
 "cells": [
  {
   "cell_type": "code",
   "execution_count": 1,
   "metadata": {
    "collapsed": false
   },
   "outputs": [],
   "source": [
    "import pandas as pd\n",
    "import numpy as np\n",
    "import csv\n",
    "import json\n",
    "import string\n",
    "import unicodedata\n",
    "import re\n",
    "#import folium\n",
    "import geopy\n",
    "import geopy.distance\n",
    "from collections import defaultdict\n",
    "from nltk.corpus import stopwords\n",
    "from nltk.tokenize import word_tokenize\n",
    "from nltk.stem import PorterStemmer\n",
    "from nltk.tokenize import sent_tokenize, word_tokenize\n",
    "from nltk.stem.snowball import SnowballStemmer\n",
    "from scipy.spatial.distance import cosine\n",
    "from geopy.geocoders import Nominatim\n",
    "from geopy.distance import great_circle"
   ]
  },
  {
   "cell_type": "code",
   "execution_count": 15,
   "metadata": {
    "collapsed": true
   },
   "outputs": [],
   "source": [
    "with open('inv_indx.json', 'r') as fp:\n",
    "    inv_indx = json.load(fp)\n",
    "inv_indx={int(key):inv_indx[key] for key in inv_indx}"
   ]
  },
  {
   "cell_type": "code",
   "execution_count": 16,
   "metadata": {
    "collapsed": true
   },
   "outputs": [],
   "source": [
    "with open('termiddic.json', 'r') as fp:\n",
    "    termiddic = json.load(fp)"
   ]
  },
  {
   "cell_type": "code",
   "execution_count": 18,
   "metadata": {
    "collapsed": false
   },
   "outputs": [
    {
     "name": "stdout",
     "output_type": "stream",
     "text": [
      "kitchen house light private\n"
     ]
    }
   ],
   "source": [
    "q1=input()"
   ]
  },
  {
   "cell_type": "code",
   "execution_count": 29,
   "metadata": {
    "collapsed": false
   },
   "outputs": [],
   "source": [
    "#from finalADM33.ipynb import filtering"
   ]
  },
  {
   "cell_type": "code",
   "execution_count": 19,
   "metadata": {
    "collapsed": false
   },
   "outputs": [],
   "source": [
    "from Query import stem_sentences,remove_punctuations,remove_accents"
   ]
  },
  {
   "cell_type": "code",
   "execution_count": 20,
   "metadata": {
    "collapsed": false
   },
   "outputs": [],
   "source": [
    "q=stem_sentences(q1)\n",
    "q=remove_punctuations(q)\n",
    "q=remove_accents(q)"
   ]
  },
  {
   "cell_type": "code",
   "execution_count": null,
   "metadata": {
    "collapsed": false
   },
   "outputs": [],
   "source": []
  },
  {
   "cell_type": "code",
   "execution_count": 21,
   "metadata": {
    "collapsed": false
   },
   "outputs": [],
   "source": [
    "stop = stopwords.words('english')\n",
    "stopword=lambda l1: ' '.join([word for word in l1.split() if word not in (stop)])\n",
    "punctuation= lambda x:''.join([i for i in x if i not in string.punctuation])"
   ]
  },
  {
   "cell_type": "code",
   "execution_count": 22,
   "metadata": {
    "collapsed": true
   },
   "outputs": [],
   "source": [
    "q=stopword(q)\n",
    "q1=punctuation(q)"
   ]
  },
  {
   "cell_type": "code",
   "execution_count": 10,
   "metadata": {
    "collapsed": false
   },
   "outputs": [
    {
     "data": {
      "text/plain": [
       "'kitch hous privat'"
      ]
     },
     "execution_count": 10,
     "metadata": {},
     "output_type": "execute_result"
    }
   ],
   "source": [
    "q1"
   ]
  },
  {
   "cell_type": "code",
   "execution_count": 23,
   "metadata": {
    "collapsed": false
   },
   "outputs": [],
   "source": [
    "tid1=[]\n",
    "for l in (q1.split()):\n",
    "    if l in termiddic:\n",
    "        value=termiddic[l]\n",
    "        tid1.append(value)"
   ]
  },
  {
   "cell_type": "code",
   "execution_count": null,
   "metadata": {
    "collapsed": false
   },
   "outputs": [],
   "source": []
  },
  {
   "cell_type": "raw",
   "metadata": {},
   "source": []
  },
  {
   "cell_type": "code",
   "execution_count": null,
   "metadata": {
    "collapsed": false
   },
   "outputs": [],
   "source": []
  },
  {
   "cell_type": "code",
   "execution_count": 24,
   "metadata": {
    "collapsed": false
   },
   "outputs": [],
   "source": [
    "docid1=[]\n",
    "for t in tid1:\n",
    "    value=inv_indx[t]\n",
    "    docid1.append(set(value))\n",
    "u = set.intersection(*docid1)"
   ]
  },
  {
   "cell_type": "code",
   "execution_count": 25,
   "metadata": {
    "collapsed": false
   },
   "outputs": [
    {
     "data": {
      "text/plain": [
       "{597, 3415, 5453, 8159, 11163, 11359, 11447, 15958, 16060, 16617, 17683}"
      ]
     },
     "execution_count": 25,
     "metadata": {},
     "output_type": "execute_result"
    }
   ],
   "source": [
    "u"
   ]
  },
  {
   "cell_type": "code",
   "execution_count": 26,
   "metadata": {
    "collapsed": true
   },
   "outputs": [],
   "source": [
    "p=pd.DataFrame()\n",
    "l = ['average_rate_per_night', 'bedrooms_count', 'city', 'date_of_listing', 'description' , 'latitude', 'longitude','title','url']\n",
    "for b in u:\n",
    "    d=pd.read_csv(\"/home/atefe/Desktop/airbnb-property-data-from-texas4/doc_\"+str(b)+\".tsv\",names=l,delimiter=\"\\t\")\n",
    "    p=p.append(d[['description','title','city','url']])"
   ]
  },
  {
   "cell_type": "code",
   "execution_count": 27,
   "metadata": {
    "collapsed": false
   },
   "outputs": [
    {
     "data": {
      "text/html": [
       "<div>\n",
       "<table border=\"1\" class=\"dataframe\">\n",
       "  <thead>\n",
       "    <tr style=\"text-align: right;\">\n",
       "      <th></th>\n",
       "      <th>description</th>\n",
       "      <th>title</th>\n",
       "      <th>city</th>\n",
       "      <th>url</th>\n",
       "    </tr>\n",
       "  </thead>\n",
       "  <tbody>\n",
       "    <tr>\n",
       "      <th>16621</th>\n",
       "      <td>Hey  my place is 10 miles to Circuit of the Am...</td>\n",
       "      <td>Cozy Room with light Breakfast</td>\n",
       "      <td>Austin</td>\n",
       "      <td>https://www.airbnb.com/rooms/15274066?location...</td>\n",
       "    </tr>\n",
       "    <tr>\n",
       "      <th>5455</th>\n",
       "      <td>HOLIDAYS  LOCAL EVENTS  HIGH DEMAND WEEKENDS  ...</td>\n",
       "      <td>2 blocks to Rainey! Walk downtown!</td>\n",
       "      <td>Austin</td>\n",
       "      <td>https://www.airbnb.com/rooms/1250575?location=...</td>\n",
       "    </tr>\n",
       "    <tr>\n",
       "      <th>17688</th>\n",
       "      <td>Unattached studio on quiet street; walking dis...</td>\n",
       "      <td>Funky Barton Hills Cabin</td>\n",
       "      <td>Austin</td>\n",
       "      <td>https://www.airbnb.com/rooms/14274652?location...</td>\n",
       "    </tr>\n",
       "    <tr>\n",
       "      <th>598</th>\n",
       "      <td>Hey  my place is 10 miles to Circuit of the Am...</td>\n",
       "      <td>Cozy Room with light breakfast</td>\n",
       "      <td>Austin</td>\n",
       "      <td>https://www.airbnb.com/rooms/15274260?location...</td>\n",
       "    </tr>\n",
       "    <tr>\n",
       "      <th>15962</th>\n",
       "      <td>Hey  my place is 10 miles to Circuit of the Am...</td>\n",
       "      <td>Cozy Room with light breakfast</td>\n",
       "      <td>Austin</td>\n",
       "      <td>https://www.airbnb.com/rooms/15274260?location...</td>\n",
       "    </tr>\n",
       "    <tr>\n",
       "      <th>11451</th>\n",
       "      <td>Guest house in the backyard of residence. Priv...</td>\n",
       "      <td>Cozy Cottage</td>\n",
       "      <td>Hurst</td>\n",
       "      <td>https://www.airbnb.com/rooms/19249179?location...</td>\n",
       "    </tr>\n",
       "    <tr>\n",
       "      <th>8162</th>\n",
       "      <td>Hey  my place is 10 miles to Circuit of the Am...</td>\n",
       "      <td>Cozy Room with light Breakfast</td>\n",
       "      <td>Austin</td>\n",
       "      <td>https://www.airbnb.com/rooms/15274066?location...</td>\n",
       "    </tr>\n",
       "    <tr>\n",
       "      <th>11167</th>\n",
       "      <td>Beautiful  bright and charming 600 Square foot...</td>\n",
       "      <td>Beautiful  bright and cozy guesthouse availabl...</td>\n",
       "      <td>Georgetown</td>\n",
       "      <td>https://www.airbnb.com/rooms/18749202?location...</td>\n",
       "    </tr>\n",
       "    <tr>\n",
       "      <th>16064</th>\n",
       "      <td>Historic Houston Heights Carriage House. Priva...</td>\n",
       "      <td>Historic Houston Heights  Norhill</td>\n",
       "      <td>Houston</td>\n",
       "      <td>https://www.airbnb.com/rooms/9631890?location=...</td>\n",
       "    </tr>\n",
       "    <tr>\n",
       "      <th>3416</th>\n",
       "      <td>Enjoy this beautiful 2 bedroom house situated ...</td>\n",
       "      <td>Wine Trail Panoramic View Getaway</td>\n",
       "      <td>Fredericksburg</td>\n",
       "      <td>https://www.airbnb.com/rooms/5405790?location=...</td>\n",
       "    </tr>\n",
       "    <tr>\n",
       "      <th>11363</th>\n",
       "      <td>Elegant 4 bedroom  2 bath  3200 Sq Ft house on...</td>\n",
       "      <td>Mins. from Austin Formula 1 SXSW</td>\n",
       "      <td>Buda</td>\n",
       "      <td>https://www.airbnb.com/rooms/762234?location=B...</td>\n",
       "    </tr>\n",
       "  </tbody>\n",
       "</table>\n",
       "</div>"
      ],
      "text/plain": [
       "                                             description  \\\n",
       "16621  Hey  my place is 10 miles to Circuit of the Am...   \n",
       "5455   HOLIDAYS  LOCAL EVENTS  HIGH DEMAND WEEKENDS  ...   \n",
       "17688  Unattached studio on quiet street; walking dis...   \n",
       "598    Hey  my place is 10 miles to Circuit of the Am...   \n",
       "15962  Hey  my place is 10 miles to Circuit of the Am...   \n",
       "11451  Guest house in the backyard of residence. Priv...   \n",
       "8162   Hey  my place is 10 miles to Circuit of the Am...   \n",
       "11167  Beautiful  bright and charming 600 Square foot...   \n",
       "16064  Historic Houston Heights Carriage House. Priva...   \n",
       "3416   Enjoy this beautiful 2 bedroom house situated ...   \n",
       "11363  Elegant 4 bedroom  2 bath  3200 Sq Ft house on...   \n",
       "\n",
       "                                                   title            city  \\\n",
       "16621                     Cozy Room with light Breakfast          Austin   \n",
       "5455                  2 blocks to Rainey! Walk downtown!          Austin   \n",
       "17688                           Funky Barton Hills Cabin          Austin   \n",
       "598                       Cozy Room with light breakfast          Austin   \n",
       "15962                     Cozy Room with light breakfast          Austin   \n",
       "11451                                       Cozy Cottage           Hurst   \n",
       "8162                      Cozy Room with light Breakfast          Austin   \n",
       "11167  Beautiful  bright and cozy guesthouse availabl...      Georgetown   \n",
       "16064                  Historic Houston Heights  Norhill         Houston   \n",
       "3416                   Wine Trail Panoramic View Getaway  Fredericksburg   \n",
       "11363                   Mins. from Austin Formula 1 SXSW            Buda   \n",
       "\n",
       "                                                     url  \n",
       "16621  https://www.airbnb.com/rooms/15274066?location...  \n",
       "5455   https://www.airbnb.com/rooms/1250575?location=...  \n",
       "17688  https://www.airbnb.com/rooms/14274652?location...  \n",
       "598    https://www.airbnb.com/rooms/15274260?location...  \n",
       "15962  https://www.airbnb.com/rooms/15274260?location...  \n",
       "11451  https://www.airbnb.com/rooms/19249179?location...  \n",
       "8162   https://www.airbnb.com/rooms/15274066?location...  \n",
       "11167  https://www.airbnb.com/rooms/18749202?location...  \n",
       "16064  https://www.airbnb.com/rooms/9631890?location=...  \n",
       "3416   https://www.airbnb.com/rooms/5405790?location=...  \n",
       "11363  https://www.airbnb.com/rooms/762234?location=B...  "
      ]
     },
     "execution_count": 27,
     "metadata": {},
     "output_type": "execute_result"
    }
   ],
   "source": [
    "p"
   ]
  },
  {
   "cell_type": "code",
   "execution_count": 28,
   "metadata": {
    "collapsed": true
   },
   "outputs": [],
   "source": [
    "with open('new_invindx.json', 'r') as fp:\n",
    "    new_invindx1= json.load(fp)\n",
    "new_invindx1={int(key):new_invindx1[key] for key in new_invindx1}\n",
    "\n",
    "new_invindx=new_invindx1"
   ]
  },
  {
   "cell_type": "code",
   "execution_count": 29,
   "metadata": {
    "collapsed": true
   },
   "outputs": [],
   "source": [
    "termdf=pd.read_csv(\"termdf.csv\")\n",
    "termdf.set_index('word',inplace=True)"
   ]
  },
  {
   "cell_type": "code",
   "execution_count": null,
   "metadata": {
    "collapsed": false
   },
   "outputs": [],
   "source": []
  },
  {
   "cell_type": "code",
   "execution_count": 30,
   "metadata": {
    "collapsed": false
   },
   "outputs": [],
   "source": [
    "d1={}\n",
    "for h in q1.split():\n",
    "    c1=q1.count(h)\n",
    "    tf=c1/len(q1)\n",
    "    if h in termiddic:\n",
    "        d1[termiddic[h]]=(termdf.loc[h]['idf'])*tf\n",
    "    else:\n",
    "        continue"
   ]
  },
  {
   "cell_type": "code",
   "execution_count": 31,
   "metadata": {
    "collapsed": false
   },
   "outputs": [
    {
     "data": {
      "text/plain": [
       "{25778: 0.04390287848961353,\n",
       " 26675: 0.060613745892270796,\n",
       " 27110: 0.11392015602634313,\n",
       " 30925: 0.051225960678390428}"
      ]
     },
     "execution_count": 31,
     "metadata": {},
     "output_type": "execute_result"
    }
   ],
   "source": [
    "d1"
   ]
  },
  {
   "cell_type": "code",
   "execution_count": 32,
   "metadata": {
    "collapsed": false
   },
   "outputs": [],
   "source": [
    "df1=pd.read_csv(\"new_backup_title_desc.csv\")\n",
    "df1=df1.fillna(\"TEXAS\")\n",
    "dn = df1['title']+' '+df1['description']\n",
    "d2 = pd.DataFrame(dn)\n",
    "d2.columns = [\"words\"]\n",
    "w=d2['words'].str.split(' ', expand=True).stack().value_counts()\n",
    "wordlist=list(w.index)"
   ]
  },
  {
   "cell_type": "code",
   "execution_count": null,
   "metadata": {
    "collapsed": false
   },
   "outputs": [],
   "source": []
  },
  {
   "cell_type": "code",
   "execution_count": 33,
   "metadata": {
    "collapsed": false
   },
   "outputs": [],
   "source": [
    "# Calculating the Cosine Similarity Ranked by their Score\n",
    "\"\"\"in the following script we calculate the cosine similarity between query and documents that contain all the \n",
    "                            words of the query\"\"\"\n",
    "\"\"\" based on the formula of cosine similarity in the following script we  should have two vectors of the same size\n",
    "    therefore we assign a key(here is termid) in the dictionary with the value 0 if the term is not in the query\n",
    "    but it is in the document\"\"\"\n",
    "precosl={}\n",
    "finalcosl={}\n",
    "for d in list(u):\n",
    "    temp=d1\n",
    "    g=d2.loc[(d-1),'words']\n",
    "    g=g.split(\" \")\n",
    "    for i in g:\n",
    "        if i in termiddic:\n",
    "            k=termiddic[i]\n",
    "            tl=new_invindx[k]\n",
    "            for r in tl:\n",
    "                if r[0]==d:\n",
    "                    precosl[termiddic[i]]=r[1]\n",
    "    for m in precosl:\n",
    "        if m in temp:\n",
    "            continue\n",
    "        else:\n",
    "            temp[m]=0\n",
    "    for m in temp:\n",
    "        if m in precosl:\n",
    "            continue\n",
    "        else:\n",
    "            precosl[m]=0\n",
    "    doc_d= pd.Series(precosl)\n",
    "    query_d = pd.Series(temp)\n",
    "    finalcosl[d]=(1 - cosine(doc_d, query_d))"
   ]
  },
  {
   "cell_type": "code",
   "execution_count": 111,
   "metadata": {
    "collapsed": false
   },
   "outputs": [
    {
     "data": {
      "text/plain": [
       "{}"
      ]
     },
     "execution_count": 111,
     "metadata": {},
     "output_type": "execute_result"
    }
   ],
   "source": []
  },
  {
   "cell_type": "code",
   "execution_count": 34,
   "metadata": {
    "collapsed": false
   },
   "outputs": [],
   "source": [
    "p1=pd.DataFrame()\n",
    "l = ['average_rate_per_night', 'bedrooms_count', 'city', 'date_of_listing', 'description' , 'latitude', 'longitude','title','url']\n",
    "for b in u:\n",
    "    d=pd.read_csv(\"/home/atefe/Desktop/airbnb-property-data-from-texas5/doc_\"+str(b)+\".tsv\",names=l,delimiter=\"\\t\")\n",
    "    d['Cosine-Similiarty']=finalcosl[b]\n",
    "    p1=p1.append(d[['description','title','city','url','Cosine-Similiarty']])"
   ]
  },
  {
   "cell_type": "code",
   "execution_count": 35,
   "metadata": {
    "collapsed": false
   },
   "outputs": [
    {
     "data": {
      "text/html": [
       "<div>\n",
       "<table border=\"1\" class=\"dataframe\">\n",
       "  <thead>\n",
       "    <tr style=\"text-align: right;\">\n",
       "      <th></th>\n",
       "      <th>description</th>\n",
       "      <th>title</th>\n",
       "      <th>city</th>\n",
       "      <th>url</th>\n",
       "      <th>Cosine-Similiarty</th>\n",
       "    </tr>\n",
       "  </thead>\n",
       "  <tbody>\n",
       "    <tr>\n",
       "      <th>0</th>\n",
       "      <td>hey place  mile circuit america  mile airport ...</td>\n",
       "      <td>cozi room light breakfast</td>\n",
       "      <td>Austin</td>\n",
       "      <td>https://www.airbnb.com/rooms/15274066?location...</td>\n",
       "      <td>0.287906</td>\n",
       "    </tr>\n",
       "    <tr>\n",
       "      <th>0</th>\n",
       "      <td>holiday local event high demand weekend date w...</td>\n",
       "      <td>block rainey walk downtown</td>\n",
       "      <td>Austin</td>\n",
       "      <td>https://www.airbnb.com/rooms/1250575?location=...</td>\n",
       "      <td>0.035445</td>\n",
       "    </tr>\n",
       "    <tr>\n",
       "      <th>0</th>\n",
       "      <td>unattach studio quiet street walk distanc bart...</td>\n",
       "      <td>funki barton hill cabin</td>\n",
       "      <td>Austin</td>\n",
       "      <td>https://www.airbnb.com/rooms/14274652?location...</td>\n",
       "      <td>0.130300</td>\n",
       "    </tr>\n",
       "    <tr>\n",
       "      <th>0</th>\n",
       "      <td>hey place  mile circuit america  mile airport ...</td>\n",
       "      <td>cozi room light breakfast</td>\n",
       "      <td>Austin</td>\n",
       "      <td>https://www.airbnb.com/rooms/15274260?location...</td>\n",
       "      <td>0.167106</td>\n",
       "    </tr>\n",
       "    <tr>\n",
       "      <th>0</th>\n",
       "      <td>hey place  mile circuit america  mile airport ...</td>\n",
       "      <td>cozi room light breakfast</td>\n",
       "      <td>Austin</td>\n",
       "      <td>https://www.airbnb.com/rooms/15274260?location...</td>\n",
       "      <td>0.167106</td>\n",
       "    </tr>\n",
       "    <tr>\n",
       "      <th>0</th>\n",
       "      <td>guest hous backyard resid privat entranc park ...</td>\n",
       "      <td>cozi cottag</td>\n",
       "      <td>Hurst</td>\n",
       "      <td>https://www.airbnb.com/rooms/19249179?location...</td>\n",
       "      <td>0.125893</td>\n",
       "    </tr>\n",
       "    <tr>\n",
       "      <th>0</th>\n",
       "      <td>hey place  mile circuit america  mile airport ...</td>\n",
       "      <td>cozi room light breakfast</td>\n",
       "      <td>Austin</td>\n",
       "      <td>https://www.airbnb.com/rooms/15274066?location...</td>\n",
       "      <td>0.151046</td>\n",
       "    </tr>\n",
       "    <tr>\n",
       "      <th>0</th>\n",
       "      <td>beauti bright charm  squar foot guest hous ava...</td>\n",
       "      <td>beauti bright cozi guesthous avail rent</td>\n",
       "      <td>Georgetown</td>\n",
       "      <td>https://www.airbnb.com/rooms/18749202?location...</td>\n",
       "      <td>0.100646</td>\n",
       "    </tr>\n",
       "    <tr>\n",
       "      <th>0</th>\n",
       "      <td>histor houston height carriag hous privat elec...</td>\n",
       "      <td>histor houston height norhil</td>\n",
       "      <td>Houston</td>\n",
       "      <td>https://www.airbnb.com/rooms/9631890?location=...</td>\n",
       "      <td>0.154684</td>\n",
       "    </tr>\n",
       "    <tr>\n",
       "      <th>0</th>\n",
       "      <td>enjoy beauti  bedroom hous situat top ridg  de...</td>\n",
       "      <td>wine trail panoram view getaway</td>\n",
       "      <td>Fredericksburg</td>\n",
       "      <td>https://www.airbnb.com/rooms/5405790?location=...</td>\n",
       "      <td>0.056639</td>\n",
       "    </tr>\n",
       "    <tr>\n",
       "      <th>0</th>\n",
       "      <td>eleg  bedroom  bath  sq ft hous quiet shadi cu...</td>\n",
       "      <td>min austin formula  sxsw</td>\n",
       "      <td>Buda</td>\n",
       "      <td>https://www.airbnb.com/rooms/762234?location=B...</td>\n",
       "      <td>0.039431</td>\n",
       "    </tr>\n",
       "  </tbody>\n",
       "</table>\n",
       "</div>"
      ],
      "text/plain": [
       "                                         description  \\\n",
       "0  hey place  mile circuit america  mile airport ...   \n",
       "0  holiday local event high demand weekend date w...   \n",
       "0  unattach studio quiet street walk distanc bart...   \n",
       "0  hey place  mile circuit america  mile airport ...   \n",
       "0  hey place  mile circuit america  mile airport ...   \n",
       "0  guest hous backyard resid privat entranc park ...   \n",
       "0  hey place  mile circuit america  mile airport ...   \n",
       "0  beauti bright charm  squar foot guest hous ava...   \n",
       "0  histor houston height carriag hous privat elec...   \n",
       "0  enjoy beauti  bedroom hous situat top ridg  de...   \n",
       "0  eleg  bedroom  bath  sq ft hous quiet shadi cu...   \n",
       "\n",
       "                                     title            city  \\\n",
       "0                cozi room light breakfast          Austin   \n",
       "0               block rainey walk downtown          Austin   \n",
       "0                  funki barton hill cabin          Austin   \n",
       "0                cozi room light breakfast          Austin   \n",
       "0                cozi room light breakfast          Austin   \n",
       "0                              cozi cottag           Hurst   \n",
       "0                cozi room light breakfast          Austin   \n",
       "0  beauti bright cozi guesthous avail rent      Georgetown   \n",
       "0             histor houston height norhil         Houston   \n",
       "0          wine trail panoram view getaway  Fredericksburg   \n",
       "0                 min austin formula  sxsw            Buda   \n",
       "\n",
       "                                                 url  Cosine-Similiarty  \n",
       "0  https://www.airbnb.com/rooms/15274066?location...           0.287906  \n",
       "0  https://www.airbnb.com/rooms/1250575?location=...           0.035445  \n",
       "0  https://www.airbnb.com/rooms/14274652?location...           0.130300  \n",
       "0  https://www.airbnb.com/rooms/15274260?location...           0.167106  \n",
       "0  https://www.airbnb.com/rooms/15274260?location...           0.167106  \n",
       "0  https://www.airbnb.com/rooms/19249179?location...           0.125893  \n",
       "0  https://www.airbnb.com/rooms/15274066?location...           0.151046  \n",
       "0  https://www.airbnb.com/rooms/18749202?location...           0.100646  \n",
       "0  https://www.airbnb.com/rooms/9631890?location=...           0.154684  \n",
       "0  https://www.airbnb.com/rooms/5405790?location=...           0.056639  \n",
       "0  https://www.airbnb.com/rooms/762234?location=B...           0.039431  "
      ]
     },
     "execution_count": 35,
     "metadata": {},
     "output_type": "execute_result"
    }
   ],
   "source": [
    "p1"
   ]
  },
  {
   "cell_type": "code",
   "execution_count": 36,
   "metadata": {
    "collapsed": true
   },
   "outputs": [],
   "source": [
    "Df=pd.read_csv(\"Defining_newscore.csv\")"
   ]
  },
  {
   "cell_type": "code",
   "execution_count": 37,
   "metadata": {
    "collapsed": false
   },
   "outputs": [],
   "source": [
    "#Cleaning the data and extracting meaningful information to define New Score based on City,No of Bedrooms & Average rate/Night\n",
    "#we remove the $ sign in average_rate_per_night and convert it to float\n",
    "Df['average_rate_per_night']=Df['average_rate_per_night'].apply(lambda x : int(x.replace('$','')))\n",
    "Df['bedrooms_count']=Df['bedrooms_count'].apply(lambda x : str(x))\n",
    "#we convert the bedroom to float and then we replace the Studio with 1\n",
    "Df['bedrooms_count']=Df['bedrooms_count'].apply(lambda x : float(x.replace('Studio','1')))"
   ]
  },
  {
   "cell_type": "code",
   "execution_count": 47,
   "metadata": {
    "collapsed": false
   },
   "outputs": [
    {
     "name": "stdout",
     "output_type": "stream",
     "text": [
      "please Enter city: Austin\n"
     ]
    }
   ],
   "source": [
    "c=input('please Enter city: ')"
   ]
  },
  {
   "cell_type": "code",
   "execution_count": 39,
   "metadata": {
    "collapsed": false
   },
   "outputs": [
    {
     "name": "stdout",
     "output_type": "stream",
     "text": [
      "please Enter the number of bedrooms? 4\n"
     ]
    }
   ],
   "source": [
    "b=input('please Enter the number of bedrooms? ')"
   ]
  },
  {
   "cell_type": "code",
   "execution_count": 40,
   "metadata": {
    "collapsed": true
   },
   "outputs": [],
   "source": [
    "if b !=\"Studio\":\n",
    "    b=int(b)\n",
    "if b==\"Studio\":\n",
    "    b=1"
   ]
  },
  {
   "cell_type": "code",
   "execution_count": 41,
   "metadata": {
    "collapsed": false
   },
   "outputs": [
    {
     "name": "stdout",
     "output_type": "stream",
     "text": [
      "please Enter the number of average_rate_per_night (in dollar)? 50\n"
     ]
    }
   ],
   "source": [
    "r=input('please Enter the number of average_rate_per_night (in dollar)? ')\n",
    "r=int(r.replace('$',''))"
   ]
  },
  {
   "cell_type": "code",
   "execution_count": 42,
   "metadata": {
    "collapsed": true
   },
   "outputs": [],
   "source": [
    "\"\"\"u is the intersection of documents that contains the word from previous part in other words it contains all \n",
    "the documents that contains all the words in the query\"\"\"\n",
    "u = [x-1 for x in u]\n",
    "S=Df.ix[u]"
   ]
  },
  {
   "cell_type": "code",
   "execution_count": 43,
   "metadata": {
    "collapsed": true
   },
   "outputs": [],
   "source": [
    "S=S.reset_index(drop=True)"
   ]
  },
  {
   "cell_type": "code",
   "execution_count": 48,
   "metadata": {
    "collapsed": false
   },
   "outputs": [],
   "source": [
    "\"\"\"Using Builtin library Geopy & Nominatim in order to find the distance between the city that is in the query\n",
    "and the city in the documents\"\"\"\n",
    "\n",
    "geolocator = Nominatim(user_agent='myapplication')\n",
    "try:\n",
    "    location = geolocator.geocode(c,timeout=None)\n",
    "    lan=location.latitude\n",
    "    lon=location.longitude\n",
    "except GeocoderTimedOut as e:\n",
    "    lan=100\n",
    "Y=(lan,lon)"
   ]
  },
  {
   "cell_type": "code",
   "execution_count": 49,
   "metadata": {
    "collapsed": false
   },
   "outputs": [],
   "source": [
    "w=[0.1,0.3,0.6,0.4]\n",
    "for i in range(len(S)):\n",
    "    m=[]\n",
    "    if b-1<=S.loc[i,'bedrooms_count']<=b+1:\n",
    "        m.append(1)\n",
    "    else:\n",
    "        m.append(0)\n",
    "    if r-20<=S.loc[i,'average_rate_per_night']<=r+10:\n",
    "         m.append(1)\n",
    "    else:\n",
    "        m.append(0)\n",
    "    if c==S.loc[i,'city']:\n",
    "        m.append(1)\n",
    "        m.append(0)\n",
    "    else:\n",
    "        m.append(0)\n",
    "        X=(S.loc[i,'latitude'],S.loc[i,'longitude'])\n",
    "        Dist=great_circle(X,Y).km\n",
    "        if Dist<=10:\n",
    "            m.append(1)\n",
    "        else:\n",
    "            m.append(0)\n",
    "    DotProduct = np.dot(m,w)\n",
    "    S.loc[i,'Score']=DotProduct"
   ]
  },
  {
   "cell_type": "code",
   "execution_count": 50,
   "metadata": {
    "collapsed": false
   },
   "outputs": [
    {
     "data": {
      "text/html": [
       "<div>\n",
       "<table border=\"1\" class=\"dataframe\">\n",
       "  <thead>\n",
       "    <tr style=\"text-align: right;\">\n",
       "      <th></th>\n",
       "      <th>Unnamed: 0</th>\n",
       "      <th>average_rate_per_night</th>\n",
       "      <th>bedrooms_count</th>\n",
       "      <th>city</th>\n",
       "      <th>date_of_listing</th>\n",
       "      <th>description</th>\n",
       "      <th>latitude</th>\n",
       "      <th>longitude</th>\n",
       "      <th>title</th>\n",
       "      <th>url</th>\n",
       "      <th>Score</th>\n",
       "    </tr>\n",
       "  </thead>\n",
       "  <tbody>\n",
       "    <tr>\n",
       "      <th>3</th>\n",
       "      <td>596</td>\n",
       "      <td>30</td>\n",
       "      <td>1.0</td>\n",
       "      <td>Austin</td>\n",
       "      <td>September 2016</td>\n",
       "      <td>hey place  mile circuit america  mile airport ...</td>\n",
       "      <td>30.238889</td>\n",
       "      <td>-97.578815</td>\n",
       "      <td>cozi room light breakfast</td>\n",
       "      <td>https://www.airbnb.com/rooms/15274260?location...</td>\n",
       "      <td>0.9</td>\n",
       "    </tr>\n",
       "    <tr>\n",
       "      <th>6</th>\n",
       "      <td>8158</td>\n",
       "      <td>30</td>\n",
       "      <td>1.0</td>\n",
       "      <td>Austin</td>\n",
       "      <td>September 2016</td>\n",
       "      <td>hey place  mile circuit america  mile airport ...</td>\n",
       "      <td>30.240384</td>\n",
       "      <td>-97.580312</td>\n",
       "      <td>cozi room light breakfast</td>\n",
       "      <td>https://www.airbnb.com/rooms/15274066?location...</td>\n",
       "      <td>0.9</td>\n",
       "    </tr>\n",
       "    <tr>\n",
       "      <th>0</th>\n",
       "      <td>16616</td>\n",
       "      <td>30</td>\n",
       "      <td>1.0</td>\n",
       "      <td>Austin</td>\n",
       "      <td>September 2016</td>\n",
       "      <td>hey place  mile circuit america  mile airport ...</td>\n",
       "      <td>30.240384</td>\n",
       "      <td>-97.580312</td>\n",
       "      <td>cozi room light breakfast</td>\n",
       "      <td>https://www.airbnb.com/rooms/15274066?location...</td>\n",
       "      <td>0.9</td>\n",
       "    </tr>\n",
       "    <tr>\n",
       "      <th>4</th>\n",
       "      <td>15957</td>\n",
       "      <td>30</td>\n",
       "      <td>1.0</td>\n",
       "      <td>Austin</td>\n",
       "      <td>September 2016</td>\n",
       "      <td>hey place  mile circuit america  mile airport ...</td>\n",
       "      <td>30.238889</td>\n",
       "      <td>-97.578815</td>\n",
       "      <td>cozi room light breakfast</td>\n",
       "      <td>https://www.airbnb.com/rooms/15274260?location...</td>\n",
       "      <td>0.9</td>\n",
       "    </tr>\n",
       "    <tr>\n",
       "      <th>2</th>\n",
       "      <td>17682</td>\n",
       "      <td>125</td>\n",
       "      <td>1.0</td>\n",
       "      <td>Austin</td>\n",
       "      <td>July 2016</td>\n",
       "      <td>unattach studio quiet street walk distanc bart...</td>\n",
       "      <td>30.256405</td>\n",
       "      <td>-97.778506</td>\n",
       "      <td>funki barton hill cabin</td>\n",
       "      <td>https://www.airbnb.com/rooms/14274652?location...</td>\n",
       "      <td>0.6</td>\n",
       "    </tr>\n",
       "    <tr>\n",
       "      <th>1</th>\n",
       "      <td>5452</td>\n",
       "      <td>109</td>\n",
       "      <td>2.0</td>\n",
       "      <td>Austin</td>\n",
       "      <td>February 2011</td>\n",
       "      <td>holiday local event high demand weekend date w...</td>\n",
       "      <td>30.257062</td>\n",
       "      <td>-97.733581</td>\n",
       "      <td>block rainey walk downtown</td>\n",
       "      <td>https://www.airbnb.com/rooms/1250575?location=...</td>\n",
       "      <td>0.6</td>\n",
       "    </tr>\n",
       "    <tr>\n",
       "      <th>10</th>\n",
       "      <td>11358</td>\n",
       "      <td>1100</td>\n",
       "      <td>4.0</td>\n",
       "      <td>Buda</td>\n",
       "      <td>October 2012</td>\n",
       "      <td>eleg  bedroom  bath  sq ft hous quiet shadi cu...</td>\n",
       "      <td>30.114181</td>\n",
       "      <td>-97.857215</td>\n",
       "      <td>min austin formula  sxsw</td>\n",
       "      <td>https://www.airbnb.com/rooms/762234?location=B...</td>\n",
       "      <td>0.1</td>\n",
       "    </tr>\n",
       "    <tr>\n",
       "      <th>7</th>\n",
       "      <td>11162</td>\n",
       "      <td>105</td>\n",
       "      <td>1.0</td>\n",
       "      <td>Georgetown</td>\n",
       "      <td>May 2017</td>\n",
       "      <td>beauti bright charm  squar foot guest hous ava...</td>\n",
       "      <td>30.639548</td>\n",
       "      <td>-97.718014</td>\n",
       "      <td>beauti bright cozi guesthous avail rent</td>\n",
       "      <td>https://www.airbnb.com/rooms/18749202?location...</td>\n",
       "      <td>0.0</td>\n",
       "    </tr>\n",
       "    <tr>\n",
       "      <th>8</th>\n",
       "      <td>16059</td>\n",
       "      <td>70</td>\n",
       "      <td>1.0</td>\n",
       "      <td>Houston</td>\n",
       "      <td>March 2015</td>\n",
       "      <td>histor houston height carriag hous privat elec...</td>\n",
       "      <td>29.793702</td>\n",
       "      <td>-95.385409</td>\n",
       "      <td>histor houston height norhil</td>\n",
       "      <td>https://www.airbnb.com/rooms/9631890?location=...</td>\n",
       "      <td>0.0</td>\n",
       "    </tr>\n",
       "    <tr>\n",
       "      <th>9</th>\n",
       "      <td>3414</td>\n",
       "      <td>160</td>\n",
       "      <td>2.0</td>\n",
       "      <td>Fredericksburg</td>\n",
       "      <td>December 2014</td>\n",
       "      <td>enjoy beauti  bedroom hous situat top ridg  de...</td>\n",
       "      <td>30.168097</td>\n",
       "      <td>-98.819464</td>\n",
       "      <td>wine trail panoram view getaway</td>\n",
       "      <td>https://www.airbnb.com/rooms/5405790?location=...</td>\n",
       "      <td>0.0</td>\n",
       "    </tr>\n",
       "    <tr>\n",
       "      <th>5</th>\n",
       "      <td>11446</td>\n",
       "      <td>150</td>\n",
       "      <td>1.0</td>\n",
       "      <td>Hurst</td>\n",
       "      <td>June 2015</td>\n",
       "      <td>guest hous backyard resid privat entranc park ...</td>\n",
       "      <td>32.827540</td>\n",
       "      <td>-97.174359</td>\n",
       "      <td>cozi cottag</td>\n",
       "      <td>https://www.airbnb.com/rooms/19249179?location...</td>\n",
       "      <td>0.0</td>\n",
       "    </tr>\n",
       "  </tbody>\n",
       "</table>\n",
       "</div>"
      ],
      "text/plain": [
       "    Unnamed: 0  average_rate_per_night  bedrooms_count            city  \\\n",
       "3          596                      30             1.0          Austin   \n",
       "6         8158                      30             1.0          Austin   \n",
       "0        16616                      30             1.0          Austin   \n",
       "4        15957                      30             1.0          Austin   \n",
       "2        17682                     125             1.0          Austin   \n",
       "1         5452                     109             2.0          Austin   \n",
       "10       11358                    1100             4.0            Buda   \n",
       "7        11162                     105             1.0      Georgetown   \n",
       "8        16059                      70             1.0         Houston   \n",
       "9         3414                     160             2.0  Fredericksburg   \n",
       "5        11446                     150             1.0           Hurst   \n",
       "\n",
       "   date_of_listing                                        description  \\\n",
       "3   September 2016  hey place  mile circuit america  mile airport ...   \n",
       "6   September 2016  hey place  mile circuit america  mile airport ...   \n",
       "0   September 2016  hey place  mile circuit america  mile airport ...   \n",
       "4   September 2016  hey place  mile circuit america  mile airport ...   \n",
       "2        July 2016  unattach studio quiet street walk distanc bart...   \n",
       "1    February 2011  holiday local event high demand weekend date w...   \n",
       "10    October 2012  eleg  bedroom  bath  sq ft hous quiet shadi cu...   \n",
       "7         May 2017  beauti bright charm  squar foot guest hous ava...   \n",
       "8       March 2015  histor houston height carriag hous privat elec...   \n",
       "9    December 2014  enjoy beauti  bedroom hous situat top ridg  de...   \n",
       "5        June 2015  guest hous backyard resid privat entranc park ...   \n",
       "\n",
       "     latitude  longitude                                    title  \\\n",
       "3   30.238889 -97.578815                cozi room light breakfast   \n",
       "6   30.240384 -97.580312                cozi room light breakfast   \n",
       "0   30.240384 -97.580312                cozi room light breakfast   \n",
       "4   30.238889 -97.578815                cozi room light breakfast   \n",
       "2   30.256405 -97.778506                  funki barton hill cabin   \n",
       "1   30.257062 -97.733581               block rainey walk downtown   \n",
       "10  30.114181 -97.857215                 min austin formula  sxsw   \n",
       "7   30.639548 -97.718014  beauti bright cozi guesthous avail rent   \n",
       "8   29.793702 -95.385409             histor houston height norhil   \n",
       "9   30.168097 -98.819464          wine trail panoram view getaway   \n",
       "5   32.827540 -97.174359                              cozi cottag   \n",
       "\n",
       "                                                  url  Score  \n",
       "3   https://www.airbnb.com/rooms/15274260?location...    0.9  \n",
       "6   https://www.airbnb.com/rooms/15274066?location...    0.9  \n",
       "0   https://www.airbnb.com/rooms/15274066?location...    0.9  \n",
       "4   https://www.airbnb.com/rooms/15274260?location...    0.9  \n",
       "2   https://www.airbnb.com/rooms/14274652?location...    0.6  \n",
       "1   https://www.airbnb.com/rooms/1250575?location=...    0.6  \n",
       "10  https://www.airbnb.com/rooms/762234?location=B...    0.1  \n",
       "7   https://www.airbnb.com/rooms/18749202?location...    0.0  \n",
       "8   https://www.airbnb.com/rooms/9631890?location=...    0.0  \n",
       "9   https://www.airbnb.com/rooms/5405790?location=...    0.0  \n",
       "5   https://www.airbnb.com/rooms/19249179?location...    0.0  "
      ]
     },
     "execution_count": 50,
     "metadata": {},
     "output_type": "execute_result"
    }
   ],
   "source": [
    "S.sort_values(by=['Score'],ascending=False, kind='heapsort')"
   ]
  }
 ],
 "metadata": {
  "kernelspec": {
   "display_name": "Python 3",
   "language": "python",
   "name": "python3"
  },
  "language_info": {
   "codemirror_mode": {
    "name": "ipython",
    "version": 3
   },
   "file_extension": ".py",
   "mimetype": "text/x-python",
   "name": "python",
   "nbconvert_exporter": "python",
   "pygments_lexer": "ipython3",
   "version": "3.6.0"
  }
 },
 "nbformat": 4,
 "nbformat_minor": 2
}
