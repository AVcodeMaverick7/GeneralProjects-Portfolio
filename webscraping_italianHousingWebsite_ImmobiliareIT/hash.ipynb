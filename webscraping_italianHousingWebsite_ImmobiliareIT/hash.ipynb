{
 "cells": [
  {
   "cell_type": "code",
   "execution_count": 1,
   "metadata": {},
   "outputs": [],
   "source": [
    "#here we import the file and assign its rows to pss list\n",
    "with open(\"C:\\\\Users\\Matteo Cavalletti\\Downloads\\passwords2.txt\")as f:\n",
    "    pss = f.readlines()\n",
    "     "
   ]
  },
  {
   "cell_type": "code",
   "execution_count": 2,
   "metadata": {},
   "outputs": [],
   "source": [
    "#here we clean each string from \"\\n\" now they are for hashing\n",
    "for i in range(len(pss)):\n",
    "    pss[i] = pss[i].replace(\"\\n\",\"\")"
   ]
  },
  {
   "cell_type": "code",
   "execution_count": 1,
   "metadata": {},
   "outputs": [],
   "source": [
    "#here we convert a string to a number\n",
    "def conv(string):\n",
    "    s = list(string)\n",
    "    conv = 109000000\n",
    "    for c in s:\n",
    "        conv = conv + (ord(c)+2)^3\n",
    "    return(conv)"
   ]
  },
  {
   "cell_type": "code",
   "execution_count": 3,
   "metadata": {},
   "outputs": [],
   "source": [
    "#here we have hash function\n",
    "def hash_f(key):\n",
    "    return(key%110000001) "
   ]
  },
  {
   "cell_type": "code",
   "execution_count": 4,
   "metadata": {},
   "outputs": [],
   "source": [
    "#here we create the dictionary\n",
    "import pickle\n",
    "dic_hash={}\n",
    "for p in pss:\n",
    "    con=conv(p)\n",
    "    h= hash_f(conv)\n",
    "    dic_hash[h] = [con]\n",
    "pickle.dump( dic_hash, open( \"hash.p\", \"wb\" ) )    "
   ]
  },
  {
   "cell_type": "code",
   "execution_count": 2,
   "metadata": {},
   "outputs": [],
   "source": [
    "#here we import dictionary if yet created\n",
    "import pickle\n",
    "dic_hash = pickle.load( open( \"hash.p\", \"rb\" ) )"
   ]
  },
  {
   "cell_type": "code",
   "execution_count": 4,
   "metadata": {},
   "outputs": [],
   "source": [
    "#here we try to find collisions\n",
    "c=0\n",
    "for i in hash_dic.keys():\n",
    "    s= set(hash_dic[i])\n",
    "    if len(hash_dic[i])!= len(s):\n",
    "        c +=1\n",
    "print(c)"
   ]
  },
  {
   "cell_type": "code",
   "execution_count": null,
   "metadata": {},
   "outputs": [],
   "source": []
  }
 ],
 "metadata": {
  "kernelspec": {
   "display_name": "Python 3",
   "language": "python",
   "name": "python3"
  },
  "language_info": {
   "codemirror_mode": {
    "name": "ipython",
    "version": 3
   },
   "file_extension": ".py",
   "mimetype": "text/x-python",
   "name": "python",
   "nbconvert_exporter": "python",
   "pygments_lexer": "ipython3",
   "version": "3.6.5"
  }
 },
 "nbformat": 4,
 "nbformat_minor": 2
}
