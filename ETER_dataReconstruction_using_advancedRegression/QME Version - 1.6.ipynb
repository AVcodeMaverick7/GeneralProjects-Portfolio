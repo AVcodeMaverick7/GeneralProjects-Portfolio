{
 "cells": [
  {
   "cell_type": "code",
   "execution_count": 1,
   "metadata": {},
   "outputs": [],
   "source": [
    "from collections import Counter\n",
    "import pandas as pd\n",
    "import time\n",
    "import matplotlib.pyplot as plt\n",
    "from sklearn.model_selection import train_test_split\n",
    "import numpy as np\n",
    "from sklearn.preprocessing import LabelEncoder\n",
    "from sklearn.metrics import accuracy_score, confusion_matrix, precision_score, recall_score, f1_score,mean_squared_error, r2_score\n",
    "from sklearn.ensemble import RandomForestClassifier\n",
    "from sklearn.linear_model import LinearRegression\n",
    "from sklearn.linear_model import Lasso\n",
    "from sklearn.ensemble import GradientBoostingRegressor\n",
    "from sklearn.linear_model import RidgeCV  #using the cross validation\n",
    "from sklearn.linear_model import LassoCV #using the cross validation\n",
    "from xgboost import XGBRegressor #using the cross validation\n",
    "import warnings\n",
    "warnings.filterwarnings(\"ignore\")\n"
   ]
  },
  {
   "cell_type": "markdown",
   "metadata": {},
   "source": [
    "# DATA PREPROCESSING"
   ]
  },
  {
   "cell_type": "code",
   "execution_count": 2,
   "metadata": {},
   "outputs": [],
   "source": [
    "path='test_vicky_eter_data_with 5-7 ISCED.csv'\n",
    "df = pd.read_csv(path ,sep = ',') "
   ]
  },
  {
   "cell_type": "code",
   "execution_count": 3,
   "metadata": {},
   "outputs": [],
   "source": [
    "#standatize the name of columns\n",
    "df.columns = df.columns.str.replace(' ', '_')\n",
    "df.columns = df.columns.str.replace('-', '_')\n",
    "df.columns = df.columns.str.replace('/', '_')\n",
    "df.columns = df.columns.str.replace('(', '')\n",
    "df.columns = df.columns.str.replace(')', '')\n",
    "df.columns = df.columns.str.replace(',', '')   "
   ]
  },
  {
   "cell_type": "code",
   "execution_count": 4,
   "metadata": {},
   "outputs": [],
   "source": [
    "col=list(df.columns)"
   ]
  },
  {
   "cell_type": "code",
   "execution_count": 5,
   "metadata": {},
   "outputs": [
    {
     "data": {
      "text/plain": [
       "14316"
      ]
     },
     "execution_count": 5,
     "metadata": {},
     "output_type": "execute_result"
    }
   ],
   "source": [
    "len(df)"
   ]
  },
  {
   "cell_type": "code",
   "execution_count": 6,
   "metadata": {},
   "outputs": [],
   "source": [
    "###remove the Not Applicable Values from de variables\n",
    "for i in col:\n",
    "    df=df.loc[df[i] != 'a']\n",
    "df=df.reset_index(drop=True)"
   ]
  },
  {
   "cell_type": "code",
   "execution_count": 7,
   "metadata": {},
   "outputs": [
    {
     "data": {
      "text/plain": [
       "{'Country_Code': 100.0,\n",
       " 'Institution_Category_standardized': 100.0,\n",
       " 'Foundation_year': 99.9913926665519,\n",
       " 'Total_academic_staff_HC': 64.22792218970564,\n",
       " 'Highest_degree_delivered': 88.42313651230849,\n",
       " 'Students_enrolled_at_ISCED_5_7___foreigner': 66.65519022206921,\n",
       " 'Students_enrolled_at_ISCED_5_7___Arts_and_Humanities': 76.61387502151833,\n",
       " 'Students_enrolled_at_ISCED_5_7___Engineering_manufacturing_and_construction': 76.69134102255121,\n",
       " 'Total_students_enrolled_ISCED_5_7': 87.6226545016354,\n",
       " 'Graduates_at_ISCED_5_7___men': 78.05129970735067,\n",
       " 'Graduates_at_ISCED_5_7___women': 78.39559304527457,\n",
       " 'Student_fees_funding___Total_current_revenues': 45.32621793768291,\n",
       " 'Erasmus_total_incoming_students': 100.0,\n",
       " 'Erasmus_total_outgoing_students': 100.0}"
      ]
     },
     "execution_count": 7,
     "metadata": {},
     "output_type": "execute_result"
    }
   ],
   "source": [
    "#Check completeness\n",
    "\n",
    "def completeness(L,df):\n",
    "    missing=['a','m','x','xc','xr','c','s','nc','information missing']\n",
    "    lengths={}\n",
    "    col=list(df.columns)\n",
    "    for i in col:\n",
    "        df_1=df.loc[df[i].isin(missing)]\n",
    "        lengths[i]=((1-(len(df_1)/L))*100)\n",
    "        \n",
    "    return lengths\n",
    "\n",
    "completeness(len(df),df)"
   ]
  },
  {
   "cell_type": "markdown",
   "metadata": {},
   "source": [
    "# Statistics"
   ]
  },
  {
   "cell_type": "code",
   "execution_count": 8,
   "metadata": {},
   "outputs": [],
   "source": [
    "def Histogram_Missing(column,df):\n",
    "    missing=['a','m','x','xc','xr','c','s','nc','information missing']\n",
    "    df_mis=df.loc[df[column].isin(missing)]\n",
    "    return list(df_mis[column])"
   ]
  },
  {
   "cell_type": "code",
   "execution_count": 9,
   "metadata": {},
   "outputs": [
    {
     "data": {
      "text/plain": [
       "Text(0.5, 1.0, 'Foundation_year')"
      ]
     },
     "execution_count": 9,
     "metadata": {},
     "output_type": "execute_result"
    },
    {
     "data": {
      "image/png": "[encoded data removed]",
      "text/plain": [
       "<Figure size 432x288 with 1 Axes>"
      ]
     },
     "metadata": {
      "needs_background": "light"
     },
     "output_type": "display_data"
    }
   ],
   "source": [
    "columna='Foundation_year'\n",
    "miss_fy=Histogram_Missing(columna,df)\n",
    "plt.hist(miss_fy)\n",
    "plt.xlabel('Value')\n",
    "plt.ylabel('Frequency')\n",
    "plt.title(columna)"
   ]
  },
  {
   "cell_type": "code",
   "execution_count": 10,
   "metadata": {},
   "outputs": [
    {
     "data": {
      "text/plain": [
       "Text(0.5, 1.0, 'Total_academic_staff_HC')"
      ]
     },
     "execution_count": 10,
     "metadata": {},
     "output_type": "execute_result"
    },
    {
     "data": {
      "image/png": "[encoded data removed]",
      "text/plain": [
       "<Figure size 432x288 with 1 Axes>"
      ]
     },
     "metadata": {
      "needs_background": "light"
     },
     "output_type": "display_data"
    }
   ],
   "source": [
    "columna='Total_academic_staff_HC'\n",
    "miss_tashc=Histogram_Missing(columna,df)\n",
    "plt.hist(miss_tashc)\n",
    "plt.xlabel('Value')\n",
    "plt.ylabel('Frequency')\n",
    "plt.title(columna)"
   ]
  },
  {
   "cell_type": "code",
   "execution_count": 11,
   "metadata": {},
   "outputs": [
    {
     "data": {
      "text/plain": [
       "Text(0.5, 1.0, 'Highest_degree_delivered')"
      ]
     },
     "execution_count": 11,
     "metadata": {},
     "output_type": "execute_result"
    },
    {
     "data": {
      "image/png": "[encoded data removed]",
      "text/plain": [
       "<Figure size 432x288 with 1 Axes>"
      ]
     },
     "metadata": {
      "needs_background": "light"
     },
     "output_type": "display_data"
    }
   ],
   "source": [
    "columna='Highest_degree_delivered'\n",
    "miss_hdd=Histogram_Missing(columna,df)\n",
    "plt.hist(miss_hdd)\n",
    "plt.xlabel('Value')\n",
    "plt.ylabel('Frequency')\n",
    "plt.title(columna)"
   ]
  },
  {
   "cell_type": "code",
   "execution_count": 12,
   "metadata": {},
   "outputs": [
    {
     "data": {
      "text/plain": [
       "Text(0.5, 1.0, 'Students_enrolled_at_ISCED_5_7___foreigner')"
      ]
     },
     "execution_count": 12,
     "metadata": {},
     "output_type": "execute_result"
    },
    {
     "data": {
      "image/png": "[encoded data removed]",
      "text/plain": [
       "<Figure size 432x288 with 1 Axes>"
      ]
     },
     "metadata": {
      "needs_background": "light"
     },
     "output_type": "display_data"
    }
   ],
   "source": [
    "columna='Students_enrolled_at_ISCED_5_7___foreigner'\n",
    "miss_se57f=Histogram_Missing(columna,df)\n",
    "plt.hist(miss_se57f)\n",
    "plt.xlabel('Value')\n",
    "plt.ylabel('Frequency')\n",
    "plt.title(columna)"
   ]
  },
  {
   "cell_type": "code",
   "execution_count": 13,
   "metadata": {},
   "outputs": [
    {
     "data": {
      "text/plain": [
       "Text(0.5, 1.0, 'Students_enrolled_at_ISCED_5_7___Arts_and_Humanities')"
      ]
     },
     "execution_count": 13,
     "metadata": {},
     "output_type": "execute_result"
    },
    {
     "data": {
      "image/png": "[encoded data removed]",
      "text/plain": [
       "<Figure size 432x288 with 1 Axes>"
      ]
     },
     "metadata": {
      "needs_background": "light"
     },
     "output_type": "display_data"
    }
   ],
   "source": [
    "columna='Students_enrolled_at_ISCED_5_7___Arts_and_Humanities'\n",
    "miss_se57ah=Histogram_Missing(columna,df)\n",
    "plt.hist(miss_se57ah)\n",
    "plt.xlabel('Value')\n",
    "plt.ylabel('Frequency')\n",
    "plt.title(columna)"
   ]
  },
  {
   "cell_type": "code",
   "execution_count": 14,
   "metadata": {},
   "outputs": [
    {
     "data": {
      "text/plain": [
       "Text(0.5, 1.0, 'Students_enrolled_at_ISCED_5_7___Engineering_manufacturing_and_construction')"
      ]
     },
     "execution_count": 14,
     "metadata": {},
     "output_type": "execute_result"
    },
    {
     "data": {
      "image/png": "[encoded data removed]",
      "text/plain": [
       "<Figure size 432x288 with 1 Axes>"
      ]
     },
     "metadata": {
      "needs_background": "light"
     },
     "output_type": "display_data"
    }
   ],
   "source": [
    "columna= 'Students_enrolled_at_ISCED_5_7___Engineering_manufacturing_and_construction'\n",
    "miss_se57emc=Histogram_Missing(columna,df)\n",
    "plt.hist(miss_se57emc)\n",
    "plt.xlabel('Value')\n",
    "plt.ylabel('Frequency')\n",
    "plt.title(columna)"
   ]
  },
  {
   "cell_type": "code",
   "execution_count": 15,
   "metadata": {},
   "outputs": [
    {
     "data": {
      "text/plain": [
       "Text(0.5, 1.0, 'Total_students_enrolled_ISCED_5_7')"
      ]
     },
     "execution_count": 15,
     "metadata": {},
     "output_type": "execute_result"
    },
    {
     "data": {
      "image/png": "[encoded data removed]",
      "text/plain": [
       "<Figure size 432x288 with 1 Axes>"
      ]
     },
     "metadata": {
      "needs_background": "light"
     },
     "output_type": "display_data"
    }
   ],
   "source": [
    "columna= 'Total_students_enrolled_ISCED_5_7'\n",
    "miss_tse57=Histogram_Missing(columna,df)\n",
    "plt.hist(miss_tse57)\n",
    "plt.xlabel('Value')\n",
    "plt.ylabel('Frequency')\n",
    "plt.title(columna)"
   ]
  },
  {
   "cell_type": "code",
   "execution_count": 16,
   "metadata": {},
   "outputs": [
    {
     "data": {
      "text/plain": [
       "Text(0.5, 1.0, 'Graduates_at_ISCED_5_7___men')"
      ]
     },
     "execution_count": 16,
     "metadata": {},
     "output_type": "execute_result"
    },
    {
     "data": {
      "image/png": "[encoded data removed]",
      "text/plain": [
       "<Figure size 432x288 with 1 Axes>"
      ]
     },
     "metadata": {
      "needs_background": "light"
     },
     "output_type": "display_data"
    }
   ],
   "source": [
    "columna= 'Graduates_at_ISCED_5_7___men'\n",
    "miss_g57m=Histogram_Missing(columna,df)\n",
    "plt.hist(miss_g57m)\n",
    "plt.xlabel('Value')\n",
    "plt.ylabel('Frequency')\n",
    "plt.title(columna)"
   ]
  },
  {
   "cell_type": "code",
   "execution_count": 17,
   "metadata": {},
   "outputs": [
    {
     "data": {
      "text/plain": [
       "Text(0.5, 1.0, 'Graduates_at_ISCED_5_7___women')"
      ]
     },
     "execution_count": 17,
     "metadata": {},
     "output_type": "execute_result"
    },
    {
     "data": {
      "image/png": "[encoded data removed]",
      "text/plain": [
       "<Figure size 432x288 with 1 Axes>"
      ]
     },
     "metadata": {
      "needs_background": "light"
     },
     "output_type": "display_data"
    }
   ],
   "source": [
    "columna=  'Graduates_at_ISCED_5_7___women'\n",
    "miss_g57w=Histogram_Missing(columna,df)\n",
    "plt.hist(miss_g57w)\n",
    "plt.xlabel('Value')\n",
    "plt.ylabel('Frequency')\n",
    "plt.title(columna)"
   ]
  },
  {
   "cell_type": "code",
   "execution_count": 18,
   "metadata": {},
   "outputs": [
    {
     "data": {
      "text/plain": [
       "Text(0.5, 1.0, 'Student_fees_funding___Total_current_revenues')"
      ]
     },
     "execution_count": 18,
     "metadata": {},
     "output_type": "execute_result"
    },
    {
     "data": {
      "image/png": "[encoded data removed]",
      "text/plain": [
       "<Figure size 432x288 with 1 Axes>"
      ]
     },
     "metadata": {
      "needs_background": "light"
     },
     "output_type": "display_data"
    }
   ],
   "source": [
    "columna= 'Student_fees_funding___Total_current_revenues'\n",
    "miss_sfftcr=Histogram_Missing(columna,df)\n",
    "plt.hist(miss_sfftcr)\n",
    "plt.xlabel('Value')\n",
    "plt.ylabel('Frequency')\n",
    "plt.title(columna)"
   ]
  },
  {
   "cell_type": "markdown",
   "metadata": {},
   "source": [
    "# Useful functions to be used for prediction missing values "
   ]
  },
  {
   "cell_type": "code",
   "execution_count": 19,
   "metadata": {},
   "outputs": [],
   "source": [
    "#convert selected columns to numeric\n",
    "columns_to_convert_numeric = [e for e in col if e not in ('Country_Code', 'Institution_Category_standardized', 'Highest_degree_delivered')]\n",
    "def numeric(df,columns_to_convert_numeric):\n",
    "    for i in columns_to_convert_numeric:\n",
    "        df[i]=pd.to_numeric(df[i],errors='coerce')\n",
    "    return df"
   ]
  },
  {
   "cell_type": "code",
   "execution_count": 20,
   "metadata": {},
   "outputs": [
    {
     "data": {
      "text/plain": [
       "['Foundation_year',\n",
       " 'Total_academic_staff_HC',\n",
       " 'Students_enrolled_at_ISCED_5_7___foreigner',\n",
       " 'Students_enrolled_at_ISCED_5_7___Arts_and_Humanities',\n",
       " 'Students_enrolled_at_ISCED_5_7___Engineering_manufacturing_and_construction',\n",
       " 'Total_students_enrolled_ISCED_5_7',\n",
       " 'Graduates_at_ISCED_5_7___men',\n",
       " 'Graduates_at_ISCED_5_7___women',\n",
       " 'Student_fees_funding___Total_current_revenues',\n",
       " 'Erasmus_total_incoming_students',\n",
       " 'Erasmus_total_outgoing_students']"
      ]
     },
     "execution_count": 20,
     "metadata": {},
     "output_type": "execute_result"
    }
   ],
   "source": [
    "columns_to_convert_numeric"
   ]
  },
  {
   "cell_type": "code",
   "execution_count": 59,
   "metadata": {},
   "outputs": [],
   "source": [
    "def encoder(df,y):\n",
    "    # Categorical boolean mask\n",
    "    categorical_feature_mask = df.dtypes==object\n",
    "    # filter categorical columns using mask and turn it into a list\n",
    "    categorical_cols = df.columns[categorical_feature_mask].tolist()\n",
    "\n",
    "    maps=[]\n",
    "    for i in categorical_cols:\n",
    "        le = LabelEncoder()\n",
    "        df[i]=le.fit_transform(df[i])\n",
    "        le_name_mapping = dict(zip(le.classes_, le.transform(le.classes_)))\n",
    "        maps.append(le_name_mapping)\n",
    "    #df[categorical_cols] = df[categorical_cols].apply(lambda col: le.fit_transform(col))\n",
    "\n",
    "        \n",
    "    return df,maps"
   ]
  },
  {
   "cell_type": "markdown",
   "metadata": {},
   "source": [
    "# DATASET PREPARATION FOR TRAINING, VALIDATION AND TEST"
   ]
  },
  {
   "cell_type": "code",
   "execution_count": 22,
   "metadata": {},
   "outputs": [],
   "source": [
    "#We will select variables that have more than 75% completeness\n",
    "#For those that have 0.75 <= Completness < 1 we will remove the missing data in order to have 100% completeness\n",
    "\n",
    "\n",
    "more_75=['Foundation_year','Highest_degree_delivered','Students_enrolled_at_ISCED_5_7___Arts_and_Humanities',\n",
    "         'Students_enrolled_at_ISCED_5_7___Engineering_manufacturing_and_construction',\n",
    "         'Total_students_enrolled_ISCED_5_7',\n",
    "        'Graduates_at_ISCED_5_7___men',\n",
    "         'Graduates_at_ISCED_5_7___women']    \n",
    "\n",
    "def selectFeature(L,df):\n",
    "    lengths={}\n",
    "    missing=['a','m','x','xc','xr','c','s','nc','information missing']\n",
    "    col=['Country_Code',\n",
    "         'Institution_Category_standardized',\n",
    "         'Foundation_year',\n",
    "         'Highest_degree_delivered',\n",
    "         'Students_enrolled_at_ISCED_5_7___Arts_and_Humanities',\n",
    "         'Students_enrolled_at_ISCED_5_7___Engineering_manufacturing_and_construction',\n",
    "         'Total_students_enrolled_ISCED_5_7',\n",
    "         'Graduates_at_ISCED_5_7___men',\n",
    "         'Graduates_at_ISCED_5_7___women',\n",
    "         'Erasmus_total_incoming_students', \n",
    "         'Erasmus_total_outgoing_students']\n",
    "\n",
    "    for i in col:\n",
    "        for j in missing:\n",
    "            df=df.loc[df[i] != j]\n",
    "        \n",
    "    df=df.reset_index(drop=True)    \n",
    "    \n",
    "    return df\n",
    "\n",
    "df=selectFeature(len(df),df)"
   ]
  },
  {
   "cell_type": "code",
   "execution_count": 23,
   "metadata": {},
   "outputs": [
    {
     "data": {
      "text/plain": [
       "{'Country_Code': 100.0,\n",
       " 'Institution_Category_standardized': 100.0,\n",
       " 'Foundation_year': 100.0,\n",
       " 'Total_academic_staff_HC': 72.69175673915875,\n",
       " 'Highest_degree_delivered': 100.0,\n",
       " 'Students_enrolled_at_ISCED_5_7___foreigner': 81.54707644224509,\n",
       " 'Students_enrolled_at_ISCED_5_7___Arts_and_Humanities': 100.0,\n",
       " 'Students_enrolled_at_ISCED_5_7___Engineering_manufacturing_and_construction': 100.0,\n",
       " 'Total_students_enrolled_ISCED_5_7': 100.0,\n",
       " 'Graduates_at_ISCED_5_7___men': 100.0,\n",
       " 'Graduates_at_ISCED_5_7___women': 100.0,\n",
       " 'Student_fees_funding___Total_current_revenues': 57.41633025133481,\n",
       " 'Erasmus_total_incoming_students': 100.0,\n",
       " 'Erasmus_total_outgoing_students': 100.0}"
      ]
     },
     "execution_count": 23,
     "metadata": {},
     "output_type": "execute_result"
    }
   ],
   "source": [
    "#updated completeness\n",
    "completeness(len(df),df)"
   ]
  },
  {
   "cell_type": "code",
   "execution_count": 24,
   "metadata": {},
   "outputs": [
    {
     "data": {
      "text/plain": [
       "7679"
      ]
     },
     "execution_count": 24,
     "metadata": {},
     "output_type": "execute_result"
    }
   ],
   "source": [
    "len(df)"
   ]
  },
  {
   "cell_type": "code",
   "execution_count": 25,
   "metadata": {},
   "outputs": [],
   "source": [
    "#for trainDF: remove the rows that include ['a','m','x','xc','xr','c','s','nc'] in the column that to be predicted. Training set should not include any of them.\n",
    "#for predictDF: keep only the rows that has ['a','m','x','xc','xr','c','s','nc'] in to be predicted column.\n",
    "\n",
    "def predictionSeparation(df,target_column):\n",
    "    missing=['a','m','x','xc','xr','c','s','nc']\n",
    "    #Create Train Dataframe\n",
    "    trainDF=df.loc[df[target_column].isin(missing)==False]\n",
    "    \n",
    "    #Create Prediction Dataframe\n",
    "\n",
    "    predictDF=df.loc[df[target_column].isin(missing)]\n",
    "    return trainDF,predictDF"
   ]
  },
  {
   "cell_type": "code",
   "execution_count": 26,
   "metadata": {},
   "outputs": [],
   "source": [
    "def createXY(df,y):\n",
    "    #Separate Features from target\n",
    "    #y should be the name of the column target we are trying to work with\n",
    "    col=['Country_Code',\n",
    "         'Institution_Category_standardized',\n",
    "         'Foundation_year',\n",
    "         'Highest_degree_delivered',\n",
    "         'Students_enrolled_at_ISCED_5_7___Arts_and_Humanities',\n",
    "         'Students_enrolled_at_ISCED_5_7___Engineering_manufacturing_and_construction',\n",
    "         'Total_students_enrolled_ISCED_5_7',\n",
    "         'Graduates_at_ISCED_5_7___men',\n",
    "         'Graduates_at_ISCED_5_7___women',\n",
    "         'Erasmus_total_incoming_students', \n",
    "         'Erasmus_total_outgoing_students']\n",
    "    X = df.filter(col, axis=1)\n",
    "    Y = list(df[y])\n",
    "    \n",
    "    return X,Y"
   ]
  },
  {
   "cell_type": "markdown",
   "metadata": {},
   "source": [
    "# Regression Models"
   ]
  },
  {
   "cell_type": "code",
   "execution_count": 27,
   "metadata": {},
   "outputs": [],
   "source": [
    "def LinearRegression1(x_train,x_test,y_train,y_test,x_val):\n",
    "    print('Linear Regression')\n",
    "    model=LinearRegression()\n",
    "    model.fit(x_train, y_train)\n",
    "    y_pred = model.predict(x_test)\n",
    "    final_pred=model.predict(x_val)\n",
    "    \n",
    "    return y_pred,final_pred\n",
    "\n",
    "def Lasso1(x_train,x_test,y_train,y_test,x_val):\n",
    "    print(\"LASSO\")\n",
    "    model=Lasso()\n",
    "    model.fit(x_train, y_train)\n",
    "    y_pred = model.predict(x_test)\n",
    "    final_pred=model.predict(x_val)\n",
    "    \n",
    "    return y_pred,final_pred\n",
    "\n",
    "def GBR(x_train,x_test,y_train,y_test,x_val):\n",
    "    print(\"Gradient Boosting Regression\")\n",
    "    model=GradientBoostingRegressor()\n",
    "    model.fit(x_train, y_train)\n",
    "    y_pred = model.predict(x_test)\n",
    "    final_pred=model.predict(x_val)\n",
    "    \n",
    "    return y_pred,final_pred\n",
    "\n",
    "def XGB(x_train,x_test,y_train,y_test,x_val):\n",
    "    print(\"XGB\")\n",
    "    model = XGBRegressor(max_depth=2, learning_rate=0.00018, n_estimators=100000, booster='gblinear',base_score=-4 , reg_lambda=0.007,max_delta_step=9 ,n_jobs=3)\n",
    "    model.fit(x_train, y_train)\n",
    "    y_pred = model.predict(x_test)\n",
    "    final_pred=model.predict(x_val)\n",
    "\n",
    "    return y_pred,final_pred\n",
    "\n",
    "def Results_regression(y_test,y_pred):\n",
    "    \n",
    "    mse=mean_squared_error(y_test, y_pred)\n",
    "    r2=r2_score(y_test, y_pred)\n",
    "    rmse=mse**(1/2)\n",
    "    print (\"Mean Squared Error is: \", mse)\n",
    "    print (\"r2 score is:  \", r2)\n",
    "    print (\"rmse score is: \",rmse)\n",
    "    print (\"####################################################\")\n",
    "    return (mse,r2,rmse)\n",
    "\n",
    "\n",
    "\n"
   ]
  },
  {
   "cell_type": "code",
   "execution_count": 61,
   "metadata": {},
   "outputs": [],
   "source": [
    "def Predictions(df,y,flag_y):\n",
    "\n",
    "    trainDF,predictDF=predictionSeparation(df,y)\n",
    "    \n",
    "    \n",
    "    ##Apropriate type\n",
    "\n",
    "    trainDF_1=numeric(trainDF,columns_to_convert_numeric)\n",
    "    \n",
    "    trainDF_,maps_T=encoder(trainDF_1,y)\n",
    "    \n",
    "    X,Y = createXY(trainDF_,y)\n",
    "    ###Encode categorical values\n",
    "    \n",
    "\n",
    "    x_train, x_test, y_train, y_test = train_test_split(X.as_matrix(), np.array(Y), test_size = .33,random_state=42)\n",
    "    print( x_train.shape, y_train.shape)\n",
    "    print (x_test.shape, y_test.shape)\n",
    "    \n",
    "    ##Apropriate type\n",
    "\n",
    "    predictDF_1=numeric(predictDF,columns_to_convert_numeric)\n",
    "    \n",
    "    ###Encode categorical values\n",
    "    X_p,maps_P=encoder(predictDF_1,y)\n",
    "    \n",
    "    X_p_1,Y_p = createXY(X_p,y)\n",
    "\n",
    "    \n",
    "    X_p_2=X_p_1.as_matrix()\n",
    "    \n",
    "    ##Algorithms\n",
    "    #Linear Regression\n",
    "\n",
    "    startL = time.time()      \n",
    "    y_pred_L,y_final_L=LinearRegression1(x_train,x_test,y_train,y_test,X_p_2) \n",
    "    endL = time.time()\n",
    "    timeL=endL - startL\n",
    "    print(\"Linear Regression time is: \", timeL, \"seconds\")\n",
    "    msel,r2l,rmsel=Results_regression(y_test,y_pred_L)\n",
    "\n",
    "    ##Algorithms\n",
    "    #LASSO\n",
    "\n",
    "    startLa = time.time()      \n",
    "    y_pred_La,y_final_Lasso=Lasso1(x_train,x_test,y_train,y_test,X_p_2)\n",
    "    endLa = time.time()\n",
    "    timeLa=endLa - startLa\n",
    "    print(\"Linear Regression time is: \", timeLa, \"seconds\")\n",
    "    msela,r2la,rmsela=Results_regression(y_test,y_pred_La)\n",
    "    \n",
    "    ##Algorithms\n",
    "    #GBR\n",
    "\n",
    "    startG = time.time()      \n",
    "    y_pred_GBR,y_final_GBR=GBR(x_train,x_test,y_train,y_test,X_p_2)\n",
    "    endG = time.time()\n",
    "    timeG=endG - startG\n",
    "    print(\"GBR time is: \", timeG, \"seconds\")\n",
    "    mseGBR,r2GBR,rmseGBR=Results_regression(y_test,y_pred_GBR)\n",
    "    \n",
    "    ##Algorithms\n",
    "    #XGB\n",
    "\n",
    "    startX = time.time()      \n",
    "    y_pred_XGB,y_final_XGB=XGB(x_train,x_test,y_train,y_test,X_p_2)\n",
    "    endX = time.time()\n",
    "    timeX=endX - startX\n",
    "    print(\"XGB time is: \", timeX, \"seconds\")\n",
    "    mseXGB,r2XGB,rmseXGB=Results_regression(y_test,y_pred_XGB)\n",
    "\n",
    "    \n",
    "    MSE=[msel,msela,mseGBR]\n",
    "    R2=[r2l,r2la,r2GBR]\n",
    "    RMSE=[rmsel,rmsela,rmseGBR]\n",
    "    PREDICTIONS=[y_final_L,y_final_Lasso,y_final_GBR]\n",
    "\n",
    "    \n",
    "    #Decode Training\n",
    "    Tmap_countries=maps_T[0]\n",
    "    Tmap_category=maps_T[1]\n",
    "    Tmap_degree=maps_T[2]\n",
    "    \n",
    "    Tres_countries = dict((v,k) for k,v in Tmap_countries.items())\n",
    "    Tres_category = dict((v,k) for k,v in Tmap_category.items())\n",
    "    Tres_degree = dict((v,k) for k,v in Tmap_degree.items())\n",
    "    \n",
    "    ##Countries\n",
    "    TL_countries=list(trainDF_['Country_Code'])\n",
    "    TL_countries_=[]\n",
    "    \n",
    "    for i in TL_countries:\n",
    "        TL_countries_.append(Tres_countries[i])\n",
    "    \n",
    "    ##Category\n",
    "    TL_category=list(trainDF_['Institution_Category_standardized'])\n",
    "    TL_category_=[]\n",
    "\n",
    "    for i in TL_category:\n",
    "        TL_category_.append(Tres_category[i])\n",
    "    \n",
    "    ##Degree\n",
    "    TL_degree=list(trainDF_['Highest_degree_delivered'])\n",
    "    TL_degree_=[]\n",
    "\n",
    "    for i in TL_degree:\n",
    "        TL_degree_.append(Tres_degree[i])\n",
    "    \n",
    "    \n",
    "    ##Replace values\n",
    "    trainDF_.Country_Code=TL_countries_\n",
    "    trainDF_.Institution_Category_standardized=TL_category_\n",
    "    trainDF_.Highest_degree_delivered=TL_degree_\n",
    "    \n",
    "    \n",
    "    \n",
    "    \n",
    "    \n",
    "    \n",
    "    #Decode Prediction\n",
    "    Pmap_countries=maps_P[0]\n",
    "    Pmap_category=maps_P[1]\n",
    "    Pmap_degree=maps_P[2]\n",
    "    \n",
    "    Pres_countries = dict((v,k) for k,v in Pmap_countries.items())\n",
    "    Pres_category = dict((v,k) for k,v in Pmap_category.items())\n",
    "    Pres_degree = dict((v,k) for k,v in Pmap_degree.items())\n",
    "    \n",
    "    ##Countries\n",
    "    PL_countries=list(X_p['Country_Code'])\n",
    "    PL_countries_=[]\n",
    "    \n",
    "    for i in PL_countries:\n",
    "        PL_countries_.append(Pres_countries[i])\n",
    "    \n",
    "    ##Category\n",
    "    PL_category=list(X_p['Institution_Category_standardized'])\n",
    "    PL_category_=[]\n",
    "\n",
    "    for i in PL_category:\n",
    "        PL_category_.append(Pres_category[i])\n",
    "    \n",
    "    ##Degree\n",
    "    PL_degree=list(X_p['Highest_degree_delivered'])\n",
    "    PL_degree_=[]\n",
    "\n",
    "    for i in PL_degree:\n",
    "        PL_degree_.append(Pres_degree[i])\n",
    "    \n",
    "    \n",
    "    ##Replace values\n",
    "    X_p.Country_Code=PL_countries_\n",
    "    X_p.Institution_Category_standardized=PL_category_\n",
    "    X_p.Highest_degree_delivered=PL_degree_\n",
    "    \n",
    "    return MSE,R2,RMSE,PREDICTIONS,trainDF_,X_p"
   ]
  },
  {
   "cell_type": "code",
   "execution_count": 62,
   "metadata": {},
   "outputs": [],
   "source": [
    "###Target columns to be predict\n",
    "targets=['Total_academic_staff_HC',\n",
    "         'Students_enrolled_at_ISCED_5_7___foreigner',\n",
    "         'Student_fees_funding___Total_current_revenues']"
   ]
  },
  {
   "cell_type": "markdown",
   "metadata": {},
   "source": [
    "### Predict missing values in 'Total_academic_staff_HC'"
   ]
  },
  {
   "cell_type": "code",
   "execution_count": 63,
   "metadata": {},
   "outputs": [],
   "source": [
    "le = LabelEncoder()"
   ]
  },
  {
   "cell_type": "code",
   "execution_count": 64,
   "metadata": {},
   "outputs": [
    {
     "name": "stdout",
     "output_type": "stream",
     "text": [
      "(3739, 11) (3739,)\n",
      "(1843, 11) (1843,)\n",
      "Linear Regression\n",
      "Linear Regression time is:  0.0029535293579101562 seconds\n",
      "Mean Squared Error is:  888617.1766804036\n",
      "r2 score is:   0.5686515314201426\n",
      "rmse score is:  942.6649334097475\n",
      "####################################################\n",
      "LASSO\n",
      "Linear Regression time is:  0.018033266067504883 seconds\n",
      "Mean Squared Error is:  888598.9375397876\n",
      "r2 score is:   0.56866038498001\n",
      "rmse score is:  942.6552591163896\n",
      "####################################################\n",
      "Gradient Boosting Regression\n",
      "GBR time is:  0.5148758888244629 seconds\n",
      "Mean Squared Error is:  341634.5228090994\n",
      "r2 score is:   0.8341653390290974\n",
      "rmse score is:  584.4951007571401\n",
      "####################################################\n"
     ]
    }
   ],
   "source": [
    "MSEStaff,R2Staff,RMSEStaff,PREDICTIONSStaff,Training_Staff,Validation_Staff=Predictions(df,targets[0],True)"
   ]
  },
  {
   "cell_type": "code",
   "execution_count": 67,
   "metadata": {},
   "outputs": [],
   "source": [
    "Validation_Staff.Total_academic_staff_HC=list(PREDICTIONSStaff[2])"
   ]
  },
  {
   "cell_type": "code",
   "execution_count": 68,
   "metadata": {},
   "outputs": [],
   "source": [
    "df_with_T1=Training_Staff.append(Validation_Staff, ignore_index=True)"
   ]
  },
  {
   "cell_type": "markdown",
   "metadata": {},
   "source": [
    "### Predict missing values in 'Students_enrolled_at_ISCED_5_7___foreigner'"
   ]
  },
  {
   "cell_type": "code",
   "execution_count": 69,
   "metadata": {},
   "outputs": [
    {
     "name": "stdout",
     "output_type": "stream",
     "text": [
      "(4195, 11) (4195,)\n",
      "(2067, 11) (2067,)\n",
      "Linear Regression\n",
      "Linear Regression time is:  0.003969907760620117 seconds\n",
      "Mean Squared Error is:  1256212.0967369834\n",
      "r2 score is:   0.5903643346261109\n",
      "rmse score is:  1120.8086798097984\n",
      "####################################################\n",
      "LASSO\n",
      "Linear Regression time is:  0.01807093620300293 seconds\n",
      "Mean Squared Error is:  1256388.1717906226\n",
      "r2 score is:   0.5903069186674996\n",
      "rmse score is:  1120.887225277647\n",
      "####################################################\n",
      "Gradient Boosting Regression\n",
      "GBR time is:  0.5001535415649414 seconds\n",
      "Mean Squared Error is:  488896.64276453987\n",
      "r2 score is:   0.8405766812164015\n",
      "rmse score is:  699.2114435308821\n",
      "####################################################\n"
     ]
    }
   ],
   "source": [
    "MSEForeigner,R2Foreigner,RMSEForeigner,PREDICTIONSForeigner,Training_Foreigner,Validation_Foreigner=Predictions(df,targets[1],False)"
   ]
  },
  {
   "cell_type": "code",
   "execution_count": 70,
   "metadata": {},
   "outputs": [],
   "source": [
    "Validation_Foreigner.Students_enrolled_at_ISCED_5_7___foreigner=list(PREDICTIONSForeigner[2])"
   ]
  },
  {
   "cell_type": "code",
   "execution_count": 71,
   "metadata": {},
   "outputs": [],
   "source": [
    "df_with_T2=Training_Foreigner.append(Validation_Foreigner, ignore_index=True)"
   ]
  },
  {
   "cell_type": "code",
   "execution_count": 72,
   "metadata": {},
   "outputs": [
    {
     "data": {
      "text/html": [
       "<div>\n",
       "<style scoped>\n",
       "    .dataframe tbody tr th:only-of-type {\n",
       "        vertical-align: middle;\n",
       "    }\n",
       "\n",
       "    .dataframe tbody tr th {\n",
       "        vertical-align: top;\n",
       "    }\n",
       "\n",
       "    .dataframe thead th {\n",
       "        text-align: right;\n",
       "    }\n",
       "</style>\n",
       "<table border=\"1\" class=\"dataframe\">\n",
       "  <thead>\n",
       "    <tr style=\"text-align: right;\">\n",
       "      <th></th>\n",
       "      <th>Country_Code</th>\n",
       "      <th>Institution_Category_standardized</th>\n",
       "      <th>Foundation_year</th>\n",
       "      <th>Total_academic_staff_HC</th>\n",
       "      <th>Highest_degree_delivered</th>\n",
       "      <th>Students_enrolled_at_ISCED_5_7___foreigner</th>\n",
       "      <th>Students_enrolled_at_ISCED_5_7___Arts_and_Humanities</th>\n",
       "      <th>Students_enrolled_at_ISCED_5_7___Engineering_manufacturing_and_construction</th>\n",
       "      <th>Total_students_enrolled_ISCED_5_7</th>\n",
       "      <th>Graduates_at_ISCED_5_7___men</th>\n",
       "      <th>Graduates_at_ISCED_5_7___women</th>\n",
       "      <th>Student_fees_funding___Total_current_revenues</th>\n",
       "      <th>Erasmus_total_incoming_students</th>\n",
       "      <th>Erasmus_total_outgoing_students</th>\n",
       "    </tr>\n",
       "  </thead>\n",
       "  <tbody>\n",
       "    <tr>\n",
       "      <th>0</th>\n",
       "      <td>AT</td>\n",
       "      <td>university</td>\n",
       "      <td>1365</td>\n",
       "      <td>6765.0</td>\n",
       "      <td>ISCED 8</td>\n",
       "      <td>20312.481380</td>\n",
       "      <td>20060.414720</td>\n",
       "      <td>20.000000</td>\n",
       "      <td>77825.42845</td>\n",
       "      <td>2976.666667</td>\n",
       "      <td>6757.163842</td>\n",
       "      <td>NaN</td>\n",
       "      <td>1165</td>\n",
       "      <td>1299</td>\n",
       "    </tr>\n",
       "    <tr>\n",
       "      <th>1</th>\n",
       "      <td>AT</td>\n",
       "      <td>university</td>\n",
       "      <td>1585</td>\n",
       "      <td>3023.0</td>\n",
       "      <td>ISCED 8</td>\n",
       "      <td>2775.338073</td>\n",
       "      <td>4287.694963</td>\n",
       "      <td>74.201149</td>\n",
       "      <td>24714.41889</td>\n",
       "      <td>988.833333</td>\n",
       "      <td>2177.341808</td>\n",
       "      <td>NaN</td>\n",
       "      <td>491</td>\n",
       "      <td>488</td>\n",
       "    </tr>\n",
       "    <tr>\n",
       "      <th>2</th>\n",
       "      <td>AT</td>\n",
       "      <td>university</td>\n",
       "      <td>1669</td>\n",
       "      <td>3206.0</td>\n",
       "      <td>ISCED 8</td>\n",
       "      <td>9691.604128</td>\n",
       "      <td>3029.091586</td>\n",
       "      <td>2174.578167</td>\n",
       "      <td>24622.59977</td>\n",
       "      <td>1668.500000</td>\n",
       "      <td>2057.516949</td>\n",
       "      <td>NaN</td>\n",
       "      <td>252</td>\n",
       "      <td>464</td>\n",
       "    </tr>\n",
       "    <tr>\n",
       "      <th>3</th>\n",
       "      <td>AT</td>\n",
       "      <td>university</td>\n",
       "      <td>1622</td>\n",
       "      <td>1946.0</td>\n",
       "      <td>ISCED 8</td>\n",
       "      <td>5030.075841</td>\n",
       "      <td>1841.370320</td>\n",
       "      <td>174.000765</td>\n",
       "      <td>14335.06615</td>\n",
       "      <td>727.500000</td>\n",
       "      <td>1396.250000</td>\n",
       "      <td>NaN</td>\n",
       "      <td>266</td>\n",
       "      <td>207</td>\n",
       "    </tr>\n",
       "    <tr>\n",
       "      <th>4</th>\n",
       "      <td>AT</td>\n",
       "      <td>university</td>\n",
       "      <td>1872</td>\n",
       "      <td>3675.0</td>\n",
       "      <td>ISCED 8</td>\n",
       "      <td>6384.621234</td>\n",
       "      <td>0.000000</td>\n",
       "      <td>15400.753720</td>\n",
       "      <td>23617.53548</td>\n",
       "      <td>2008.000000</td>\n",
       "      <td>861.737288</td>\n",
       "      <td>NaN</td>\n",
       "      <td>486</td>\n",
       "      <td>272</td>\n",
       "    </tr>\n",
       "  </tbody>\n",
       "</table>\n",
       "</div>"
      ],
      "text/plain": [
       "  Country_Code Institution_Category_standardized  Foundation_year  \\\n",
       "0           AT                        university             1365   \n",
       "1           AT                        university             1585   \n",
       "2           AT                        university             1669   \n",
       "3           AT                        university             1622   \n",
       "4           AT                        university             1872   \n",
       "\n",
       "   Total_academic_staff_HC Highest_degree_delivered  \\\n",
       "0                   6765.0                  ISCED 8   \n",
       "1                   3023.0                  ISCED 8   \n",
       "2                   3206.0                  ISCED 8   \n",
       "3                   1946.0                  ISCED 8   \n",
       "4                   3675.0                  ISCED 8   \n",
       "\n",
       "   Students_enrolled_at_ISCED_5_7___foreigner  \\\n",
       "0                                20312.481380   \n",
       "1                                 2775.338073   \n",
       "2                                 9691.604128   \n",
       "3                                 5030.075841   \n",
       "4                                 6384.621234   \n",
       "\n",
       "   Students_enrolled_at_ISCED_5_7___Arts_and_Humanities  \\\n",
       "0                                       20060.414720      \n",
       "1                                        4287.694963      \n",
       "2                                        3029.091586      \n",
       "3                                        1841.370320      \n",
       "4                                           0.000000      \n",
       "\n",
       "   Students_enrolled_at_ISCED_5_7___Engineering_manufacturing_and_construction  \\\n",
       "0                                          20.000000                             \n",
       "1                                          74.201149                             \n",
       "2                                        2174.578167                             \n",
       "3                                         174.000765                             \n",
       "4                                       15400.753720                             \n",
       "\n",
       "   Total_students_enrolled_ISCED_5_7  Graduates_at_ISCED_5_7___men  \\\n",
       "0                        77825.42845                   2976.666667   \n",
       "1                        24714.41889                    988.833333   \n",
       "2                        24622.59977                   1668.500000   \n",
       "3                        14335.06615                    727.500000   \n",
       "4                        23617.53548                   2008.000000   \n",
       "\n",
       "   Graduates_at_ISCED_5_7___women  \\\n",
       "0                     6757.163842   \n",
       "1                     2177.341808   \n",
       "2                     2057.516949   \n",
       "3                     1396.250000   \n",
       "4                      861.737288   \n",
       "\n",
       "   Student_fees_funding___Total_current_revenues  \\\n",
       "0                                            NaN   \n",
       "1                                            NaN   \n",
       "2                                            NaN   \n",
       "3                                            NaN   \n",
       "4                                            NaN   \n",
       "\n",
       "   Erasmus_total_incoming_students  Erasmus_total_outgoing_students  \n",
       "0                             1165                             1299  \n",
       "1                              491                              488  \n",
       "2                              252                              464  \n",
       "3                              266                              207  \n",
       "4                              486                              272  "
      ]
     },
     "execution_count": 72,
     "metadata": {},
     "output_type": "execute_result"
    }
   ],
   "source": [
    "df_with_T1.head()"
   ]
  },
  {
   "cell_type": "code",
   "execution_count": 73,
   "metadata": {},
   "outputs": [
    {
     "data": {
      "text/html": [
       "<div>\n",
       "<style scoped>\n",
       "    .dataframe tbody tr th:only-of-type {\n",
       "        vertical-align: middle;\n",
       "    }\n",
       "\n",
       "    .dataframe tbody tr th {\n",
       "        vertical-align: top;\n",
       "    }\n",
       "\n",
       "    .dataframe thead th {\n",
       "        text-align: right;\n",
       "    }\n",
       "</style>\n",
       "<table border=\"1\" class=\"dataframe\">\n",
       "  <thead>\n",
       "    <tr style=\"text-align: right;\">\n",
       "      <th></th>\n",
       "      <th>Country_Code</th>\n",
       "      <th>Institution_Category_standardized</th>\n",
       "      <th>Foundation_year</th>\n",
       "      <th>Total_academic_staff_HC</th>\n",
       "      <th>Highest_degree_delivered</th>\n",
       "      <th>Students_enrolled_at_ISCED_5_7___foreigner</th>\n",
       "      <th>Students_enrolled_at_ISCED_5_7___Arts_and_Humanities</th>\n",
       "      <th>Students_enrolled_at_ISCED_5_7___Engineering_manufacturing_and_construction</th>\n",
       "      <th>Total_students_enrolled_ISCED_5_7</th>\n",
       "      <th>Graduates_at_ISCED_5_7___men</th>\n",
       "      <th>Graduates_at_ISCED_5_7___women</th>\n",
       "      <th>Student_fees_funding___Total_current_revenues</th>\n",
       "      <th>Erasmus_total_incoming_students</th>\n",
       "      <th>Erasmus_total_outgoing_students</th>\n",
       "    </tr>\n",
       "  </thead>\n",
       "  <tbody>\n",
       "    <tr>\n",
       "      <th>0</th>\n",
       "      <td>AT</td>\n",
       "      <td>university</td>\n",
       "      <td>1365</td>\n",
       "      <td>6765.0</td>\n",
       "      <td>ISCED 8</td>\n",
       "      <td>20312.481380</td>\n",
       "      <td>20060.414720</td>\n",
       "      <td>20.000000</td>\n",
       "      <td>77825.42845</td>\n",
       "      <td>2976.666667</td>\n",
       "      <td>6757.163842</td>\n",
       "      <td>NaN</td>\n",
       "      <td>1165</td>\n",
       "      <td>1299</td>\n",
       "    </tr>\n",
       "    <tr>\n",
       "      <th>1</th>\n",
       "      <td>AT</td>\n",
       "      <td>university</td>\n",
       "      <td>1585</td>\n",
       "      <td>3023.0</td>\n",
       "      <td>ISCED 8</td>\n",
       "      <td>2775.338073</td>\n",
       "      <td>4287.694963</td>\n",
       "      <td>74.201149</td>\n",
       "      <td>24714.41889</td>\n",
       "      <td>988.833333</td>\n",
       "      <td>2177.341808</td>\n",
       "      <td>NaN</td>\n",
       "      <td>491</td>\n",
       "      <td>488</td>\n",
       "    </tr>\n",
       "    <tr>\n",
       "      <th>2</th>\n",
       "      <td>AT</td>\n",
       "      <td>university</td>\n",
       "      <td>1669</td>\n",
       "      <td>3206.0</td>\n",
       "      <td>ISCED 8</td>\n",
       "      <td>9691.604128</td>\n",
       "      <td>3029.091586</td>\n",
       "      <td>2174.578167</td>\n",
       "      <td>24622.59977</td>\n",
       "      <td>1668.500000</td>\n",
       "      <td>2057.516949</td>\n",
       "      <td>NaN</td>\n",
       "      <td>252</td>\n",
       "      <td>464</td>\n",
       "    </tr>\n",
       "    <tr>\n",
       "      <th>3</th>\n",
       "      <td>AT</td>\n",
       "      <td>university</td>\n",
       "      <td>1622</td>\n",
       "      <td>1946.0</td>\n",
       "      <td>ISCED 8</td>\n",
       "      <td>5030.075841</td>\n",
       "      <td>1841.370320</td>\n",
       "      <td>174.000765</td>\n",
       "      <td>14335.06615</td>\n",
       "      <td>727.500000</td>\n",
       "      <td>1396.250000</td>\n",
       "      <td>NaN</td>\n",
       "      <td>266</td>\n",
       "      <td>207</td>\n",
       "    </tr>\n",
       "    <tr>\n",
       "      <th>4</th>\n",
       "      <td>AT</td>\n",
       "      <td>university</td>\n",
       "      <td>1872</td>\n",
       "      <td>3675.0</td>\n",
       "      <td>ISCED 8</td>\n",
       "      <td>6384.621234</td>\n",
       "      <td>0.000000</td>\n",
       "      <td>15400.753720</td>\n",
       "      <td>23617.53548</td>\n",
       "      <td>2008.000000</td>\n",
       "      <td>861.737288</td>\n",
       "      <td>NaN</td>\n",
       "      <td>486</td>\n",
       "      <td>272</td>\n",
       "    </tr>\n",
       "  </tbody>\n",
       "</table>\n",
       "</div>"
      ],
      "text/plain": [
       "  Country_Code Institution_Category_standardized  Foundation_year  \\\n",
       "0           AT                        university             1365   \n",
       "1           AT                        university             1585   \n",
       "2           AT                        university             1669   \n",
       "3           AT                        university             1622   \n",
       "4           AT                        university             1872   \n",
       "\n",
       "   Total_academic_staff_HC Highest_degree_delivered  \\\n",
       "0                   6765.0                  ISCED 8   \n",
       "1                   3023.0                  ISCED 8   \n",
       "2                   3206.0                  ISCED 8   \n",
       "3                   1946.0                  ISCED 8   \n",
       "4                   3675.0                  ISCED 8   \n",
       "\n",
       "   Students_enrolled_at_ISCED_5_7___foreigner  \\\n",
       "0                                20312.481380   \n",
       "1                                 2775.338073   \n",
       "2                                 9691.604128   \n",
       "3                                 5030.075841   \n",
       "4                                 6384.621234   \n",
       "\n",
       "   Students_enrolled_at_ISCED_5_7___Arts_and_Humanities  \\\n",
       "0                                       20060.414720      \n",
       "1                                        4287.694963      \n",
       "2                                        3029.091586      \n",
       "3                                        1841.370320      \n",
       "4                                           0.000000      \n",
       "\n",
       "   Students_enrolled_at_ISCED_5_7___Engineering_manufacturing_and_construction  \\\n",
       "0                                          20.000000                             \n",
       "1                                          74.201149                             \n",
       "2                                        2174.578167                             \n",
       "3                                         174.000765                             \n",
       "4                                       15400.753720                             \n",
       "\n",
       "   Total_students_enrolled_ISCED_5_7  Graduates_at_ISCED_5_7___men  \\\n",
       "0                        77825.42845                   2976.666667   \n",
       "1                        24714.41889                    988.833333   \n",
       "2                        24622.59977                   1668.500000   \n",
       "3                        14335.06615                    727.500000   \n",
       "4                        23617.53548                   2008.000000   \n",
       "\n",
       "   Graduates_at_ISCED_5_7___women  \\\n",
       "0                     6757.163842   \n",
       "1                     2177.341808   \n",
       "2                     2057.516949   \n",
       "3                     1396.250000   \n",
       "4                      861.737288   \n",
       "\n",
       "   Student_fees_funding___Total_current_revenues  \\\n",
       "0                                            NaN   \n",
       "1                                            NaN   \n",
       "2                                            NaN   \n",
       "3                                            NaN   \n",
       "4                                            NaN   \n",
       "\n",
       "   Erasmus_total_incoming_students  Erasmus_total_outgoing_students  \n",
       "0                             1165                             1299  \n",
       "1                              491                              488  \n",
       "2                              252                              464  \n",
       "3                              266                              207  \n",
       "4                              486                              272  "
      ]
     },
     "execution_count": 73,
     "metadata": {},
     "output_type": "execute_result"
    }
   ],
   "source": [
    "df_with_T2.head()"
   ]
  },
  {
   "cell_type": "markdown",
   "metadata": {},
   "source": [
    "### Predict missing values in 'Student_fees_funding___Total_current_revenues'"
   ]
  },
  {
   "cell_type": "code",
   "execution_count": 74,
   "metadata": {},
   "outputs": [
    {
     "name": "stdout",
     "output_type": "stream",
     "text": [
      "(2954, 11) (2954,)\n",
      "(1455, 11) (1455,)\n",
      "Linear Regression\n",
      "Linear Regression time is:  0.0029478073120117188 seconds\n",
      "Mean Squared Error is:  0.055917665552718224\n",
      "r2 score is:   0.15815939169288207\n",
      "rmse score is:  0.23646916406313578\n",
      "####################################################\n",
      "LASSO\n",
      "Linear Regression time is:  0.004082918167114258 seconds\n",
      "Mean Squared Error is:  0.060443974612368424\n",
      "r2 score is:   0.09001579638185231\n",
      "rmse score is:  0.24585356335096797\n",
      "####################################################\n",
      "Gradient Boosting Regression\n",
      "GBR time is:  0.3525519371032715 seconds\n",
      "Mean Squared Error is:  0.021906624010902605\n",
      "r2 score is:   0.6701957154147133\n",
      "rmse score is:  0.148008864636219\n",
      "####################################################\n"
     ]
    }
   ],
   "source": [
    "MSEFees,R2Fees,RMSEFees,PREDICTIONSFees,Training_Fees,Validation_Fees=Predictions(df,targets[2],False)"
   ]
  },
  {
   "cell_type": "code",
   "execution_count": 75,
   "metadata": {},
   "outputs": [],
   "source": [
    "Validation_Fees.Student_fees_funding___Total_current_revenues=list(PREDICTIONSFees[2])"
   ]
  },
  {
   "cell_type": "code",
   "execution_count": 76,
   "metadata": {},
   "outputs": [],
   "source": [
    "df_with_T3=Training_Fees.append(Validation_Fees, ignore_index=True)"
   ]
  },
  {
   "cell_type": "code",
   "execution_count": 117,
   "metadata": {},
   "outputs": [
    {
     "data": {
      "text/plain": [
       "<matplotlib.axes._subplots.AxesSubplot at 0x19418e20160>"
      ]
     },
     "execution_count": 117,
     "metadata": {},
     "output_type": "execute_result"
    },
    {
     "data": {
      "image/png": "[encoded data removed]",
      "text/plain": [
       "<Figure size 432x288 with 1 Axes>"
      ]
     },
     "metadata": {
      "needs_background": "light"
     },
     "output_type": "display_data"
    }
   ],
   "source": [
    "#Academic staff/student ratio based on country\n",
    "labels =list(df_with_T1['Country_Code'])\n",
    "A_H=list(df_with_T1['Total_academic_staff_HC'])\n",
    "E_M_C=list(df_with_T1['Total_students_enrolled_ISCED_5_7'])\n",
    "df_query5 = pd.DataFrame({'Country_Code':labels,'Total_academic_staff_HC':A_H,'Total_students_enrolled_ISCED_5_7':E_M_C})\n",
    "df_query5=df_query5.groupby(['Country_Code']).sum()\n",
    "\n",
    "df_query5copy=df_query5.copy()\n",
    "for i in range(len(df_query5)):\n",
    "    df_query5['Total_academic_staff_HC'][i]=df_query5copy.iloc[i][0]/sum(list(df_query5copy.iloc[i]))\n",
    "    df_query5['Total_students_enrolled_ISCED_5_7'][i]=df_query5copy.iloc[i][1]/sum(list(df_query5copy.iloc[i]))\n",
    "df_query5.plot(kind='bar', stacked=True)"
   ]
  },
  {
   "cell_type": "code",
   "execution_count": 112,
   "metadata": {},
   "outputs": [
    {
     "data": {
      "text/plain": [
       "<matplotlib.axes._subplots.AxesSubplot at 0x19418fcc278>"
      ]
     },
     "execution_count": 112,
     "metadata": {},
     "output_type": "execute_result"
    },
    {
     "data": {
      "image/png": "[encoded data removed]",
      "text/plain": [
       "<Figure size 432x288 with 1 Axes>"
      ]
     },
     "metadata": {
      "needs_background": "light"
     },
     "output_type": "display_data"
    }
   ],
   "source": [
    "#Compare art and humanities and engineering construction based on country in ISCED 7\n",
    "labels =list(df_with_T1['Country_Code'])\n",
    "A_H=list(df_with_T1['Students_enrolled_at_ISCED_5_7___Engineering_manufacturing_and_construction'])\n",
    "E_M_C=list(df_with_T1['Students_enrolled_at_ISCED_5_7___Arts_and_Humanities'])\n",
    "df_query5 = pd.DataFrame({'Country_Code':labels,'Students_enrolled_at_ISCED_5_7___Engineering_manufacturing_and_construction':A_H,'Students_enrolled_at_ISCED_5_7___Arts_and_Humanities':E_M_C})\n",
    "df_query5=df_query5.groupby(['Country_Code']).sum()\n",
    "\n",
    "df_query5copy=df_query5.copy()\n",
    "for i in range(len(df_query5)):\n",
    "    df_query5['Students_enrolled_at_ISCED_5_7___Engineering_manufacturing_and_construction'][i]=df_query5copy.iloc[i][0]/sum(list(df_query5copy.iloc[i]))\n",
    "    df_query5['Students_enrolled_at_ISCED_5_7___Arts_and_Humanities'][i]=df_query5copy.iloc[i][1]/sum(list(df_query5copy.iloc[i]))\n",
    "\n",
    "df_query5.plot(kind='bar', stacked=True)"
   ]
  },
  {
   "cell_type": "code",
   "execution_count": 83,
   "metadata": {},
   "outputs": [
    {
     "data": {
      "image/png": "[encoded data removed]",
      "text/plain": [
       "<Figure size 864x432 with 1 Axes>"
      ]
     },
     "metadata": {
      "needs_background": "light"
     },
     "output_type": "display_data"
    }
   ],
   "source": [
    "#Check international students amount based on country\n",
    "L1=list(df_with_T2['Country_Code'])\n",
    "L1_=[]\n",
    "\n",
    "# for i in L1:\n",
    "#     L1_.append(res_countries[i])\n",
    "        \n",
    "        \n",
    "L2=list(df_with_T2['Students_enrolled_at_ISCED_5_7___foreigner'])\n",
    "\n",
    "#norm_L2 = [float(i)/sum(L2) for i in L2]\n",
    "\n",
    "\n",
    "df_query2 = pd.DataFrame({'Country_Code':L1, 'International students amount':L2})\n",
    "df_query2=df_query2.groupby(['Country_Code']).sum()\n",
    "df_query2.reset_index(level=0, inplace=True)\n",
    "\n",
    "\n",
    "y_pos = np.arange(len(tuple(list(df_query2['Country_Code']))))\n",
    "plt.figure(figsize=(12,6))\n",
    "# Create horizontal bars\n",
    "plt.barh(y_pos, sorted(list(df_query2['International students amount'])))\n",
    "# Create names on the y-axis\n",
    "plt.yticks(y_pos, tuple(list(df_query2['Country_Code'])))\n",
    "plt.ylabel('Contries')\n",
    "plt.xlabel('International Students Amount')\n",
    "plt.title('International Students Amount based on country')\n",
    "plt.show()"
   ]
  },
  {
   "cell_type": "code",
   "execution_count": 122,
   "metadata": {},
   "outputs": [
    {
     "data": {
      "image/png": "[encoded data removed]",
      "text/plain": [
       "<Figure size 864x432 with 1 Axes>"
      ]
     },
     "metadata": {
      "needs_background": "light"
     },
     "output_type": "display_data"
    }
   ],
   "source": [
    "#Check international students amount based on country\n",
    "L1=list(df_with_T2['Country_Code'])\n",
    "L1_=[]\n",
    "\n",
    "# for i in L1:\n",
    "#     L1_.append(res_countries[i])\n",
    "        \n",
    "        \n",
    "L2=list(df_with_T2['Foundation_year'])\n",
    "\n",
    "#norm_L2 = [float(i)/sum(L2) for i in L2]\n",
    "\n",
    "\n",
    "df_query2 = pd.DataFrame({'Country_Code':L1, 'Foundation_year':L2})\n",
    "df_query2=df_query2.groupby(['Country_Code']).min()\n",
    "df_query2.reset_index(level=0, inplace=True)\n",
    "\n",
    "\n",
    "y_pos = np.arange(len(tuple(list(df_query2['Country_Code']))))\n",
    "plt.figure(figsize=(12,6))\n",
    "# Create horizontal bars\n",
    "plt.scatter(sorted(list(df_query2['Foundation_year'])),y_pos)\n",
    "# Create names on the y-axis\n",
    "plt.yticks(y_pos, tuple(list(df_query2['Country_Code'])))\n",
    "plt.ylabel('Countries')\n",
    "plt.xlabel('Foundation_year')\n",
    "plt.title('International Students Amount based on country')\n",
    "plt.show()"
   ]
  },
  {
   "cell_type": "code",
   "execution_count": 123,
   "metadata": {},
   "outputs": [
    {
     "data": {
      "image/png": "[encoded data removed]",
      "text/plain": [
       "<Figure size 432x288 with 1 Axes>"
      ]
     },
     "metadata": {},
     "output_type": "display_data"
    }
   ],
   "source": [
    "#Students enrolled in Engineering in ISCED 5-7 Vs. Total students\n",
    "df_with_T1['Students_enrolled_at_ISCED_5_7___Engineering_manufacturing_and_construction']\n",
    "df_with_T1['Total_students_enrolled_ISCED_5_7']\n",
    "\n",
    "# Data to plot\n",
    "labels = ['Eng, Manufacturing and Construction', 'Total_students']\n",
    "sizes = [sum(list(df_with_T1['Students_enrolled_at_ISCED_5_7___Engineering_manufacturing_and_construction'])),sum(list(df_with_T1['Total_students_enrolled_ISCED_5_7']))]\n",
    "#colors = ['gold', 'yellowgreen', 'lightcoral', 'lightskyblue']\n",
    "colors = ['gold', 'yellowgreen']\n",
    "explode = (0.1, 0)  # explode 1st slice\n",
    "\n",
    "# Plot\n",
    "plt.pie(sizes, explode=explode, labels=labels, colors=colors,\n",
    "autopct='%1.1f%%', shadow=True, startangle=140)\n",
    "\n",
    "plt.axis('equal')\n",
    "plt.show()"
   ]
  },
  {
   "cell_type": "code",
   "execution_count": 129,
   "metadata": {},
   "outputs": [
    {
     "name": "stdout",
     "output_type": "stream",
     "text": [
      "university: Counter({'ISCED 8': 3603, 'ISCED 7': 188, 'ISCED 6': 2})\n",
      "other: Counter({'ISCED 7': 1404, 'ISCED 8': 395, 'ISCED 6': 323})\n",
      "university of applied sciences: Counter({'ISCED 7': 1258, 'ISCED 6': 275, 'ISCED 8': 163, 'ISCED 5': 68})\n"
     ]
    }
   ],
   "source": [
    "#Highest degree delivered based on Institution category\n",
    "\n",
    "from collections import Counter \n",
    "\n",
    "ICS=list(df_with_T1['Institution_Category_standardized'])\n",
    "HDD=list(df_with_T1['Highest_degree_delivered'])\n",
    "df_query6=pd.DataFrame({'Institution_Category_standardized':ICS,'Highest_degree_delivered':HDD})\n",
    "\n",
    "university_df=df_query6[df_query6['Institution_Category_standardized']=='university']\n",
    "other_df=df_query6[df_query6['Institution_Category_standardized']=='other']\n",
    "applied_sciences_df=df_query6[df_query6['Institution_Category_standardized']=='university of applied sciences']\n",
    "\n",
    "\n",
    "U=Counter(list(university_df['Highest_degree_delivered']))\n",
    "O=Counter(list(other_df['Highest_degree_delivered']))\n",
    "AP=Counter(list(applied_sciences_df['Highest_degree_delivered']))\n",
    "\n",
    "print('university:',U)\n",
    "print('other:',O)\n",
    "print('university of applied sciences:',AP)"
   ]
  },
  {
   "cell_type": "code",
   "execution_count": 115,
   "metadata": {},
   "outputs": [
    {
     "data": {
      "text/plain": [
       "<matplotlib.axes._subplots.AxesSubplot at 0x19418888208>"
      ]
     },
     "execution_count": 115,
     "metadata": {},
     "output_type": "execute_result"
    },
    {
     "data": {
      "image/png": "[encoded data removed]",
      "text/plain": [
       "<Figure size 432x288 with 1 Axes>"
      ]
     },
     "metadata": {
      "needs_background": "light"
     },
     "output_type": "display_data"
    }
   ],
   "source": [
    "#Compare Men to Women ratio or Gender equality based on each country\n",
    "labels =list(df_with_T1['Country_Code'])\n",
    "A_H=list(df_with_T1['Graduates_at_ISCED_5_7___men'])\n",
    "E_M_C=list(df_with_T1['Graduates_at_ISCED_5_7___women'])\n",
    "df_query5 = pd.DataFrame({'Country_Code':labels,'Graduates_at_ISCED_5_7___men':A_H,'Graduates_at_ISCED_5_7___women':E_M_C})\n",
    "df_query5=df_query5.groupby(['Country_Code']).sum()\n",
    "\n",
    "df_query5copy=df_query5.copy()\n",
    "for i in range(len(df_query5)):\n",
    "    df_query5['Graduates_at_ISCED_5_7___men'][i]=df_query5copy.iloc[i][0]/sum(list(df_query5copy.iloc[i]))\n",
    "    df_query5['Graduates_at_ISCED_5_7___women'][i]=df_query5copy.iloc[i][1]/sum(list(df_query5copy.iloc[i]))\n",
    "\n",
    "df_query5.plot(kind='bar', stacked=True)"
   ]
  },
  {
   "cell_type": "code",
   "execution_count": 126,
   "metadata": {},
   "outputs": [
    {
     "data": {
      "text/plain": [
       "<matplotlib.axes._subplots.AxesSubplot at 0x1941ac76be0>"
      ]
     },
     "execution_count": 126,
     "metadata": {},
     "output_type": "execute_result"
    },
    {
     "data": {
      "image/png": "[encoded data removed]",
      "text/plain": [
       "<Figure size 432x288 with 1 Axes>"
      ]
     },
     "metadata": {
      "needs_background": "light"
     },
     "output_type": "display_data"
    }
   ],
   "source": [
    "# Comparative study to understand the incoming and outgoing transfer students based on country\n",
    "labels =list(df_with_T1['Country_Code'])\n",
    "A_H=list(df_with_T1['Erasmus_total_incoming_students'])\n",
    "E_M_C=list(df_with_T1['Erasmus_total_outgoing_students'])\n",
    "df_query5 = pd.DataFrame({'Country_Code':labels,'Erasmus_total_incoming_students':[float(i) for i in A_H],'Erasmus_total_outgoing_students':[float(i) for i in E_M_C]})\n",
    "df_query5=df_query5.groupby(['Country_Code']).sum()\n",
    "df_query5copy=df_query5.copy()\n",
    "for i in range(len(df_query5)):\n",
    "    df_query5['Erasmus_total_incoming_students'][i]=df_query5copy.iloc[i][0]/sum(list(df_query5copy.iloc[i]))\n",
    "    df_query5['Erasmus_total_outgoing_students'][i]=df_query5copy.iloc[i][1]/sum(list(df_query5copy.iloc[i]))\n",
    "df_query5.plot(kind='bar', stacked=True)"
   ]
  },
  {
   "cell_type": "code",
   "execution_count": 128,
   "metadata": {},
   "outputs": [
    {
     "data": {
      "image/png": "[encoded data removed]",
      "text/plain": [
       "<Figure size 864x648 with 1 Axes>"
      ]
     },
     "metadata": {
      "needs_background": "light"
     },
     "output_type": "display_data"
    }
   ],
   "source": [
    "#Student fee contribution to the university towards the total current revenues based on country\n",
    "\n",
    "labels =list(df_with_T1['Country_Code'])\n",
    "A_H=list(df_with_T3['Student_fees_funding___Total_current_revenues'])\n",
    "df_query5 = pd.DataFrame({'Country_Code':labels,'Student_fees_funding___Total_current_revenues': A_H})\n",
    "df_query5=df_query5.groupby(['Country_Code']).mean()\n",
    "objects = tuple(df_query5.index)\n",
    "y_pos = np.arange(len(objects))\n",
    "performance = list(df_query5['Student_fees_funding___Total_current_revenues'])\n",
    "plt.figure(figsize=(12,9))\n",
    "plt.bar(y_pos, performance, align='center', alpha=0.5)\n",
    "plt.xticks(y_pos, objects)\n",
    "plt.ylabel('Ratio')\n",
    "plt.title('Student fee contribution to the university towards the total current revenues based on country')\n",
    "\n",
    "plt.show()"
   ]
  },
  {
   "cell_type": "code",
   "execution_count": null,
   "metadata": {},
   "outputs": [],
   "source": []
  }
 ],
 "metadata": {
  "kernelspec": {
   "display_name": "Python 3",
   "language": "python",
   "name": "python3"
  },
  "language_info": {
   "codemirror_mode": {
    "name": "ipython",
    "version": 3
   },
   "file_extension": ".py",
   "mimetype": "text/x-python",
   "name": "python",
   "nbconvert_exporter": "python",
   "pygments_lexer": "ipython3",
   "version": "3.7.3"
  }
 },
 "nbformat": 4,
 "nbformat_minor": 2
}
